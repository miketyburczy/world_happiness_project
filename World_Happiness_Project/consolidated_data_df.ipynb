{
 "cells": [
  {
   "cell_type": "code",
   "execution_count": 27,
   "metadata": {},
   "outputs": [],
   "source": [
    "## Import Dependencies \n",
    "\n",
    "import pandas as pd\n",
    "import scipy.stats as st\n",
    "import matplotlib.pyplot as plt\n",
    "from sklearn import linear_model\n",
    "import import_ipynb\n",
    "import plotly.express as px\n",
    "import plotly.graph_objects as go\n",
    "import numpy as np\n",
    "import seaborn as sns\n",
    "\n",
    "## Import Functions from other Jupyter Notebooks\n",
    "\n",
    "from Garrett_notebook import scatter_graph\n",
    "from Harry_notebook import bar_plt\n",
    "from Mike_notebook import bubble1, bubble2"
   ]
  },
  {
   "cell_type": "code",
   "execution_count": 28,
   "metadata": {},
   "outputs": [],
   "source": [
    "## Import all clean data\n",
    "gov_corruption_df = pd.read_csv('clean data/cpi_2019.csv')\n",
    "generosity_df = pd.read_csv('clean data/global_generosity_score.csv')\n",
    "human_freedom_df = pd.read_csv('clean data/hf_score.csv')\n",
    "life_expectancy_df = pd.read_csv('clean data/lifeexp.csv')\n",
    "education_df = pd.read_csv('clean data/clean_edu.csv')\n",
    "gdp_df = pd.read_csv('clean data/Updated_GDP.csv')\n",
    "happy_df = pd.read_csv('clean data/happy_score.csv')"
   ]
  },
  {
   "cell_type": "code",
   "execution_count": 29,
   "metadata": {},
   "outputs": [],
   "source": [
    "## Clean up happy score dataframe for merge\n",
    "happy_df = happy_df.rename(columns={'Country or region':'Country','Score':'Happiness Score'})\n",
    "#happy_df"
   ]
  },
  {
   "cell_type": "code",
   "execution_count": 30,
   "metadata": {},
   "outputs": [],
   "source": [
    "## Clean up generosity dataframe for merge\n",
    "generosity_df = generosity_df.drop('Unnamed: 0',axis=1)\n",
    "clean_gen_df = generosity_df.rename(columns={'country':'Country','overallScore':'Generosity Score'})\n",
    "clean_gen_df = clean_gen_df.sort_values('Country')\n",
    "clean_gen_df = clean_gen_df.reset_index(drop=True)\n",
    "#clean_gen_df"
   ]
  },
  {
   "cell_type": "code",
   "execution_count": 31,
   "metadata": {},
   "outputs": [],
   "source": [
    "## Clean up corruption dataframe for merge\n",
    "clean_corrupt_df = gov_corruption_df.sort_values('Country')\n",
    "clean_corrupt_df = clean_corrupt_df.reset_index(drop=True)\n",
    "#clean_corrupt_df"
   ]
  },
  {
   "cell_type": "code",
   "execution_count": 32,
   "metadata": {},
   "outputs": [],
   "source": [
    "## Clean up gdp dataframe for merge\n",
    "gdp_df = gdp_df.rename(columns={'Country Name':'Country','Country Code':'Region','2019':\"GDP\"})\n",
    "gdp_df = gdp_df[['Country',\"GDP\"]]\n",
    "#gdp_df\n"
   ]
  },
  {
   "cell_type": "code",
   "execution_count": 33,
   "metadata": {},
   "outputs": [],
   "source": [
    "## Clean up freedom dataframe for merge\n",
    "human_freedom_df = human_freedom_df.rename(columns={'countries':'Country','region':'Region','hf_score':'Human Freedom Score'})\n",
    "#human_freedom_df"
   ]
  },
  {
   "cell_type": "code",
   "execution_count": 34,
   "metadata": {},
   "outputs": [],
   "source": [
    "## Clean up education dataframe for merge\n",
    "education_df = education_df.rename(columns={'Data Source':'Country','Rate':'Education'})\n",
    "#education_df"
   ]
  },
  {
   "cell_type": "code",
   "execution_count": 35,
   "metadata": {},
   "outputs": [],
   "source": [
    "## merge dataframes into final data frame for analysis\n",
    "merge_1 = pd.merge(clean_corrupt_df,clean_gen_df,how='outer',on='Country')\n",
    "merge_2 = pd.merge(merge_1,human_freedom_df,how='outer',on='Country')\n",
    "merge_3 = pd.merge(merge_2,life_expectancy_df,how='outer',on='Country')\n",
    "merge_4 = pd.merge(merge_3,education_df,how='outer',on='Country')\n",
    "merge_5 = pd.merge(merge_4,gdp_df,how='outer',on='Country')\n",
    "final_data_df = pd.merge(merge_5,happy_df,how='outer',on='Country')\n"
   ]
  },
  {
   "cell_type": "code",
   "execution_count": 36,
   "metadata": {},
   "outputs": [],
   "source": [
    "## Organize and define columns\n",
    "final_data_df = final_data_df[['Country','Region','Happiness Score','CPI score 2019','Generosity Score',\n",
    "                               'Human Freedom Score','Life Expectancy','Education','GDP']]\n",
    "\n",
    "## Drop Countries with NaN in columns\n",
    "final_data_df = final_data_df.dropna(axis=0,how='any')\n",
    "\n",
    "## Use this data frame for analysis\n",
    "final_data_df = final_data_df.reset_index(drop=True)\n",
    "\n",
    "## Use this data frame for visualization\n",
    "formatted_data_df = final_data_df.reset_index(drop=True)"
   ]
  },
  {
   "cell_type": "code",
   "execution_count": 37,
   "metadata": {},
   "outputs": [
    {
     "data": {
      "text/html": [
       "<div>\n",
       "<style scoped>\n",
       "    .dataframe tbody tr th:only-of-type {\n",
       "        vertical-align: middle;\n",
       "    }\n",
       "\n",
       "    .dataframe tbody tr th {\n",
       "        vertical-align: top;\n",
       "    }\n",
       "\n",
       "    .dataframe thead th {\n",
       "        text-align: right;\n",
       "    }\n",
       "</style>\n",
       "<table border=\"1\" class=\"dataframe\">\n",
       "  <thead>\n",
       "    <tr style=\"text-align: right;\">\n",
       "      <th></th>\n",
       "      <th>Country</th>\n",
       "      <th>Region</th>\n",
       "      <th>Happiness Score</th>\n",
       "      <th>CPI score 2019</th>\n",
       "      <th>Generosity Score</th>\n",
       "      <th>Human Freedom Score</th>\n",
       "      <th>Life Expectancy</th>\n",
       "      <th>Education</th>\n",
       "      <th>GDP</th>\n",
       "    </tr>\n",
       "  </thead>\n",
       "  <tbody>\n",
       "    <tr>\n",
       "      <th>0</th>\n",
       "      <td>Albania</td>\n",
       "      <td>ECA</td>\n",
       "      <td>4.719</td>\n",
       "      <td>35.0</td>\n",
       "      <td>23.0</td>\n",
       "      <td>7.81</td>\n",
       "      <td>78.0</td>\n",
       "      <td>94.15%</td>\n",
       "      <td>$5.35k</td>\n",
       "    </tr>\n",
       "    <tr>\n",
       "      <th>1</th>\n",
       "      <td>Argentina</td>\n",
       "      <td>AME</td>\n",
       "      <td>6.086</td>\n",
       "      <td>45.0</td>\n",
       "      <td>28.0</td>\n",
       "      <td>7.05</td>\n",
       "      <td>76.6</td>\n",
       "      <td>89.30%</td>\n",
       "      <td>$9.91k</td>\n",
       "    </tr>\n",
       "    <tr>\n",
       "      <th>2</th>\n",
       "      <td>Armenia</td>\n",
       "      <td>ECA</td>\n",
       "      <td>4.559</td>\n",
       "      <td>42.0</td>\n",
       "      <td>21.0</td>\n",
       "      <td>7.69</td>\n",
       "      <td>76.0</td>\n",
       "      <td>90.51%</td>\n",
       "      <td>$4.62k</td>\n",
       "    </tr>\n",
       "    <tr>\n",
       "      <th>3</th>\n",
       "      <td>Austria</td>\n",
       "      <td>WE/EU</td>\n",
       "      <td>7.246</td>\n",
       "      <td>77.0</td>\n",
       "      <td>45.0</td>\n",
       "      <td>8.45</td>\n",
       "      <td>81.6</td>\n",
       "      <td>97.13%</td>\n",
       "      <td>$50.14k</td>\n",
       "    </tr>\n",
       "    <tr>\n",
       "      <th>4</th>\n",
       "      <td>Azerbaijan</td>\n",
       "      <td>ECA</td>\n",
       "      <td>5.208</td>\n",
       "      <td>30.0</td>\n",
       "      <td>24.0</td>\n",
       "      <td>6.29</td>\n",
       "      <td>71.4</td>\n",
       "      <td>86.94%</td>\n",
       "      <td>$4.79k</td>\n",
       "    </tr>\n",
       "    <tr>\n",
       "      <th>...</th>\n",
       "      <td>...</td>\n",
       "      <td>...</td>\n",
       "      <td>...</td>\n",
       "      <td>...</td>\n",
       "      <td>...</td>\n",
       "      <td>...</td>\n",
       "      <td>...</td>\n",
       "      <td>...</td>\n",
       "      <td>...</td>\n",
       "    </tr>\n",
       "    <tr>\n",
       "      <th>83</th>\n",
       "      <td>Ukraine</td>\n",
       "      <td>ECA</td>\n",
       "      <td>4.332</td>\n",
       "      <td>30.0</td>\n",
       "      <td>24.0</td>\n",
       "      <td>6.45</td>\n",
       "      <td>73.0</td>\n",
       "      <td>96.16%</td>\n",
       "      <td>$3.66k</td>\n",
       "    </tr>\n",
       "    <tr>\n",
       "      <th>84</th>\n",
       "      <td>United Arab Emirates</td>\n",
       "      <td>MENA</td>\n",
       "      <td>6.825</td>\n",
       "      <td>71.0</td>\n",
       "      <td>45.0</td>\n",
       "      <td>6.17</td>\n",
       "      <td>76.1</td>\n",
       "      <td>78.31%</td>\n",
       "      <td>$43.10k</td>\n",
       "    </tr>\n",
       "    <tr>\n",
       "      <th>85</th>\n",
       "      <td>United States</td>\n",
       "      <td>AME</td>\n",
       "      <td>6.892</td>\n",
       "      <td>69.0</td>\n",
       "      <td>58.0</td>\n",
       "      <td>8.44</td>\n",
       "      <td>78.5</td>\n",
       "      <td>104.12%</td>\n",
       "      <td>$65.30k</td>\n",
       "    </tr>\n",
       "    <tr>\n",
       "      <th>86</th>\n",
       "      <td>Zambia</td>\n",
       "      <td>SSA</td>\n",
       "      <td>4.107</td>\n",
       "      <td>34.0</td>\n",
       "      <td>39.0</td>\n",
       "      <td>6.71</td>\n",
       "      <td>62.5</td>\n",
       "      <td>54.77%</td>\n",
       "      <td>$1.31k</td>\n",
       "    </tr>\n",
       "    <tr>\n",
       "      <th>87</th>\n",
       "      <td>Zimbabwe</td>\n",
       "      <td>SSA</td>\n",
       "      <td>3.663</td>\n",
       "      <td>24.0</td>\n",
       "      <td>29.0</td>\n",
       "      <td>5.59</td>\n",
       "      <td>60.7</td>\n",
       "      <td>71.13%</td>\n",
       "      <td>$1.46k</td>\n",
       "    </tr>\n",
       "  </tbody>\n",
       "</table>\n",
       "<p>88 rows × 9 columns</p>\n",
       "</div>"
      ],
      "text/plain": [
       "                 Country Region  Happiness Score  CPI score 2019  \\\n",
       "0                Albania    ECA            4.719            35.0   \n",
       "1              Argentina    AME            6.086            45.0   \n",
       "2                Armenia    ECA            4.559            42.0   \n",
       "3                Austria  WE/EU            7.246            77.0   \n",
       "4             Azerbaijan    ECA            5.208            30.0   \n",
       "..                   ...    ...              ...             ...   \n",
       "83               Ukraine    ECA            4.332            30.0   \n",
       "84  United Arab Emirates   MENA            6.825            71.0   \n",
       "85         United States    AME            6.892            69.0   \n",
       "86                Zambia    SSA            4.107            34.0   \n",
       "87              Zimbabwe    SSA            3.663            24.0   \n",
       "\n",
       "    Generosity Score  Human Freedom Score  Life Expectancy Education      GDP  \n",
       "0               23.0                 7.81             78.0    94.15%   $5.35k  \n",
       "1               28.0                 7.05             76.6    89.30%   $9.91k  \n",
       "2               21.0                 7.69             76.0    90.51%   $4.62k  \n",
       "3               45.0                 8.45             81.6    97.13%  $50.14k  \n",
       "4               24.0                 6.29             71.4    86.94%   $4.79k  \n",
       "..               ...                  ...              ...       ...      ...  \n",
       "83              24.0                 6.45             73.0    96.16%   $3.66k  \n",
       "84              45.0                 6.17             76.1    78.31%  $43.10k  \n",
       "85              58.0                 8.44             78.5   104.12%  $65.30k  \n",
       "86              39.0                 6.71             62.5    54.77%   $1.31k  \n",
       "87              29.0                 5.59             60.7    71.13%   $1.46k  \n",
       "\n",
       "[88 rows x 9 columns]"
      ]
     },
     "execution_count": 37,
     "metadata": {},
     "output_type": "execute_result"
    }
   ],
   "source": [
    "formatted_data_df['Education'] = formatted_data_df['Education'].apply(lambda x: \"{:.2f}%\".format((x/1)))\n",
    "formatted_data_df['GDP'] = formatted_data_df['GDP'].apply(lambda x: \"${:.2f}k\".format((x/1000)))\n",
    "formatted_data_df"
   ]
  },
  {
   "cell_type": "code",
   "execution_count": 38,
   "metadata": {},
   "outputs": [
    {
     "data": {
      "text/html": [
       "<div>\n",
       "<style scoped>\n",
       "    .dataframe tbody tr th:only-of-type {\n",
       "        vertical-align: middle;\n",
       "    }\n",
       "\n",
       "    .dataframe tbody tr th {\n",
       "        vertical-align: top;\n",
       "    }\n",
       "\n",
       "    .dataframe thead th {\n",
       "        text-align: right;\n",
       "    }\n",
       "</style>\n",
       "<table border=\"1\" class=\"dataframe\">\n",
       "  <thead>\n",
       "    <tr style=\"text-align: right;\">\n",
       "      <th></th>\n",
       "      <th>Happiness Score</th>\n",
       "      <th>CPI score 2019</th>\n",
       "      <th>Generosity Score</th>\n",
       "      <th>Human Freedom Score</th>\n",
       "      <th>Life Expectancy</th>\n",
       "      <th>Education</th>\n",
       "      <th>GDP</th>\n",
       "    </tr>\n",
       "  </thead>\n",
       "  <tbody>\n",
       "    <tr>\n",
       "      <th>count</th>\n",
       "      <td>88.000000</td>\n",
       "      <td>88.000000</td>\n",
       "      <td>88.000000</td>\n",
       "      <td>88.000000</td>\n",
       "      <td>88.000000</td>\n",
       "      <td>88.000000</td>\n",
       "      <td>88.000000</td>\n",
       "    </tr>\n",
       "    <tr>\n",
       "      <th>mean</th>\n",
       "      <td>5.477318</td>\n",
       "      <td>45.715909</td>\n",
       "      <td>32.386364</td>\n",
       "      <td>7.135114</td>\n",
       "      <td>73.755682</td>\n",
       "      <td>77.770292</td>\n",
       "      <td>15716.451022</td>\n",
       "    </tr>\n",
       "    <tr>\n",
       "      <th>std</th>\n",
       "      <td>1.066661</td>\n",
       "      <td>17.606131</td>\n",
       "      <td>9.628062</td>\n",
       "      <td>0.957498</td>\n",
       "      <td>6.821886</td>\n",
       "      <td>25.787760</td>\n",
       "      <td>21845.016762</td>\n",
       "    </tr>\n",
       "    <tr>\n",
       "      <th>min</th>\n",
       "      <td>3.334000</td>\n",
       "      <td>20.000000</td>\n",
       "      <td>16.000000</td>\n",
       "      <td>5.290000</td>\n",
       "      <td>59.600000</td>\n",
       "      <td>15.502936</td>\n",
       "      <td>411.552340</td>\n",
       "    </tr>\n",
       "    <tr>\n",
       "      <th>25%</th>\n",
       "      <td>4.552750</td>\n",
       "      <td>32.000000</td>\n",
       "      <td>24.750000</td>\n",
       "      <td>6.517500</td>\n",
       "      <td>68.675000</td>\n",
       "      <td>58.196241</td>\n",
       "      <td>1670.364002</td>\n",
       "    </tr>\n",
       "    <tr>\n",
       "      <th>50%</th>\n",
       "      <td>5.449500</td>\n",
       "      <td>41.000000</td>\n",
       "      <td>31.000000</td>\n",
       "      <td>7.045000</td>\n",
       "      <td>75.050000</td>\n",
       "      <td>89.023028</td>\n",
       "      <td>6306.250015</td>\n",
       "    </tr>\n",
       "    <tr>\n",
       "      <th>75%</th>\n",
       "      <td>6.230500</td>\n",
       "      <td>56.500000</td>\n",
       "      <td>39.000000</td>\n",
       "      <td>7.960000</td>\n",
       "      <td>79.300000</td>\n",
       "      <td>97.053737</td>\n",
       "      <td>19587.374693</td>\n",
       "    </tr>\n",
       "    <tr>\n",
       "      <th>max</th>\n",
       "      <td>7.769000</td>\n",
       "      <td>87.000000</td>\n",
       "      <td>58.000000</td>\n",
       "      <td>8.820000</td>\n",
       "      <td>83.400000</td>\n",
       "      <td>111.001115</td>\n",
       "      <td>114704.594171</td>\n",
       "    </tr>\n",
       "  </tbody>\n",
       "</table>\n",
       "</div>"
      ],
      "text/plain": [
       "       Happiness Score  CPI score 2019  Generosity Score  Human Freedom Score  \\\n",
       "count        88.000000       88.000000         88.000000            88.000000   \n",
       "mean          5.477318       45.715909         32.386364             7.135114   \n",
       "std           1.066661       17.606131          9.628062             0.957498   \n",
       "min           3.334000       20.000000         16.000000             5.290000   \n",
       "25%           4.552750       32.000000         24.750000             6.517500   \n",
       "50%           5.449500       41.000000         31.000000             7.045000   \n",
       "75%           6.230500       56.500000         39.000000             7.960000   \n",
       "max           7.769000       87.000000         58.000000             8.820000   \n",
       "\n",
       "       Life Expectancy   Education            GDP  \n",
       "count        88.000000   88.000000      88.000000  \n",
       "mean         73.755682   77.770292   15716.451022  \n",
       "std           6.821886   25.787760   21845.016762  \n",
       "min          59.600000   15.502936     411.552340  \n",
       "25%          68.675000   58.196241    1670.364002  \n",
       "50%          75.050000   89.023028    6306.250015  \n",
       "75%          79.300000   97.053737   19587.374693  \n",
       "max          83.400000  111.001115  114704.594171  "
      ]
     },
     "execution_count": 38,
     "metadata": {},
     "output_type": "execute_result"
    }
   ],
   "source": [
    "summary_df = final_data_df.describe()\n",
    "summary_df"
   ]
  },
  {
   "cell_type": "code",
   "execution_count": 39,
   "metadata": {},
   "outputs": [],
   "source": [
    "plt.style.use('fivethirtyeight')\n",
    "#print(plt.style.available)"
   ]
  },
  {
   "cell_type": "markdown",
   "metadata": {},
   "source": [
    "## Graphs for Visualization"
   ]
  },
  {
   "cell_type": "code",
   "execution_count": 40,
   "metadata": {},
   "outputs": [
    {
     "data": {
      "image/png": "[encoded data removed]",
      "text/plain": [
       "<Figure size 1080x504 with 1 Axes>"
      ]
     },
     "metadata": {},
     "output_type": "display_data"
    },
    {
     "name": "stdout",
     "output_type": "stream",
     "text": [
      "\n",
      "\n",
      "The r-value for CPI score 2019 is 0.676.\n"
     ]
    }
   ],
   "source": [
    "x=final_data_df['CPI score 2019']\n",
    "y=final_data_df['Happiness Score']\n",
    "\n",
    "scatter_graph(x,y)"
   ]
  },
  {
   "cell_type": "code",
   "execution_count": 41,
   "metadata": {},
   "outputs": [
    {
     "data": {
      "image/png": "[encoded data removed]",
      "text/plain": [
       "<Figure size 1080x504 with 1 Axes>"
      ]
     },
     "metadata": {},
     "output_type": "display_data"
    },
    {
     "name": "stdout",
     "output_type": "stream",
     "text": [
      "\n",
      "\n",
      "The r-value for Generosity Score is 0.326.\n"
     ]
    }
   ],
   "source": [
    "x=final_data_df['Generosity Score']\n",
    "y=final_data_df['Happiness Score']\n",
    "\n",
    "scatter_graph(x,y)"
   ]
  },
  {
   "cell_type": "code",
   "execution_count": 42,
   "metadata": {},
   "outputs": [
    {
     "data": {
      "image/png": "[encoded data removed]",
      "text/plain": [
       "<Figure size 1080x504 with 1 Axes>"
      ]
     },
     "metadata": {},
     "output_type": "display_data"
    },
    {
     "name": "stdout",
     "output_type": "stream",
     "text": [
      "\n",
      "\n",
      "The r-value for Human Freedom Score is 0.641.\n"
     ]
    }
   ],
   "source": [
    "x=final_data_df['Human Freedom Score']\n",
    "y=final_data_df['Happiness Score']\n",
    "\n",
    "scatter_graph(x,y)"
   ]
  },
  {
   "cell_type": "code",
   "execution_count": 43,
   "metadata": {},
   "outputs": [
    {
     "data": {
      "image/png": "[encoded data removed]",
      "text/plain": [
       "<Figure size 1080x504 with 1 Axes>"
      ]
     },
     "metadata": {},
     "output_type": "display_data"
    },
    {
     "name": "stdout",
     "output_type": "stream",
     "text": [
      "\n",
      "\n",
      "The r-value for Life Expectancy is 0.769.\n"
     ]
    }
   ],
   "source": [
    "x=final_data_df['Life Expectancy']\n",
    "y=final_data_df['Happiness Score']\n",
    "\n",
    "scatter_graph(x,y)"
   ]
  },
  {
   "cell_type": "code",
   "execution_count": 44,
   "metadata": {},
   "outputs": [
    {
     "data": {
      "image/png": "[encoded data removed]",
      "text/plain": [
       "<Figure size 1080x504 with 1 Axes>"
      ]
     },
     "metadata": {},
     "output_type": "display_data"
    },
    {
     "name": "stdout",
     "output_type": "stream",
     "text": [
      "\n",
      "\n",
      "The r-value for Education is 0.583.\n"
     ]
    }
   ],
   "source": [
    "x=final_data_df['Education']\n",
    "y=final_data_df['Happiness Score']\n",
    "\n",
    "scatter_graph(x,y)\n"
   ]
  },
  {
   "cell_type": "code",
   "execution_count": 45,
   "metadata": {},
   "outputs": [
    {
     "data": {
      "image/png": "[encoded data removed]",
      "text/plain": [
       "<Figure size 1080x504 with 1 Axes>"
      ]
     },
     "metadata": {},
     "output_type": "display_data"
    },
    {
     "name": "stdout",
     "output_type": "stream",
     "text": [
      "\n",
      "\n",
      "The r-value for GDP is 0.73.\n"
     ]
    }
   ],
   "source": [
    "x=final_data_df['GDP']\n",
    "y=final_data_df['Happiness Score']\n",
    "\n",
    "scatter_graph(x,y)"
   ]
  },
  {
   "cell_type": "code",
   "execution_count": 46,
   "metadata": {},
   "outputs": [
    {
     "data": {
      "text/html": [
       "<div>\n",
       "<style scoped>\n",
       "    .dataframe tbody tr th:only-of-type {\n",
       "        vertical-align: middle;\n",
       "    }\n",
       "\n",
       "    .dataframe tbody tr th {\n",
       "        vertical-align: top;\n",
       "    }\n",
       "\n",
       "    .dataframe thead th {\n",
       "        text-align: right;\n",
       "    }\n",
       "</style>\n",
       "<table border=\"1\" class=\"dataframe\">\n",
       "  <thead>\n",
       "    <tr style=\"text-align: right;\">\n",
       "      <th></th>\n",
       "      <th>Indicator</th>\n",
       "      <th>Slope</th>\n",
       "      <th>R-value</th>\n",
       "    </tr>\n",
       "  </thead>\n",
       "  <tbody>\n",
       "    <tr>\n",
       "      <th>0</th>\n",
       "      <td>CPI score 2019</td>\n",
       "      <td>0.041</td>\n",
       "      <td>0.676</td>\n",
       "    </tr>\n",
       "    <tr>\n",
       "      <th>1</th>\n",
       "      <td>Generosity Score</td>\n",
       "      <td>0.036</td>\n",
       "      <td>0.326</td>\n",
       "    </tr>\n",
       "    <tr>\n",
       "      <th>2</th>\n",
       "      <td>Human Freedom Score</td>\n",
       "      <td>0.714</td>\n",
       "      <td>0.641</td>\n",
       "    </tr>\n",
       "    <tr>\n",
       "      <th>3</th>\n",
       "      <td>Life Expectancy</td>\n",
       "      <td>0.120</td>\n",
       "      <td>0.769</td>\n",
       "    </tr>\n",
       "    <tr>\n",
       "      <th>4</th>\n",
       "      <td>Education</td>\n",
       "      <td>0.024</td>\n",
       "      <td>0.583</td>\n",
       "    </tr>\n",
       "    <tr>\n",
       "      <th>5</th>\n",
       "      <td>GDP</td>\n",
       "      <td>0.000</td>\n",
       "      <td>0.730</td>\n",
       "    </tr>\n",
       "  </tbody>\n",
       "</table>\n",
       "</div>"
      ],
      "text/plain": [
       "             Indicator  Slope  R-value\n",
       "0       CPI score 2019  0.041    0.676\n",
       "1     Generosity Score  0.036    0.326\n",
       "2  Human Freedom Score  0.714    0.641\n",
       "3      Life Expectancy  0.120    0.769\n",
       "4            Education  0.024    0.583\n",
       "5                  GDP  0.000    0.730"
      ]
     },
     "execution_count": 46,
     "metadata": {},
     "output_type": "execute_result"
    }
   ],
   "source": [
    "## import regression summary data frame for analysis\n",
    "\n",
    "regress_summary_df = pd.read_csv('clean data/regression_summary.csv')\n",
    "regress_summary_df"
   ]
  },
  {
   "cell_type": "code",
   "execution_count": 47,
   "metadata": {},
   "outputs": [
    {
     "data": {
      "image/png": "[encoded data removed]",
      "text/plain": [
       "<Figure size 864x576 with 4 Axes>"
      ]
     },
     "metadata": {},
     "output_type": "display_data"
    }
   ],
   "source": [
    "bar_plt(x,y)"
   ]
  },
  {
   "cell_type": "code",
   "execution_count": 48,
   "metadata": {},
   "outputs": [
    {
     "data": {
      "application/vnd.plotly.v1+json": {
       "config": {
        "plotlyServerURL": "https://plot.ly"
       },
       "data": [
        {
         "hovertemplate": "<b>%{hovertext}</b><br><br>Region=Europe Central Asia<br>Life Expectancy=%{x}<br>Human Freedom Score=%{y}<br>Happiness Score=%{marker.size}<extra></extra>",
         "hovertext": [
          "Albania",
          "Armenia",
          "Azerbaijan",
          "Belarus",
          "Georgia",
          "Kazakhstan",
          "Montenegro",
          "Serbia",
          "Tajikistan",
          "Ukraine"
         ],
         "legendgroup": "Europe Central Asia",
         "marker": {
          "color": "#636efa",
          "size": [
           4.7189999999999985,
           4.559,
           5.207999999999998,
           5.323,
           4.519,
           5.809,
           5.523,
           5.603,
           5.4670000000000005,
           4.332
          ],
          "sizemode": "area",
          "sizeref": 0.0194225,
          "symbol": "circle"
         },
         "mode": "markers",
         "name": "Europe Central Asia",
         "orientation": "v",
         "showlegend": true,
         "type": "scatter",
         "x": [
          78,
          76,
          71.4,
          74.8,
          73.3,
          74,
          75.9,
          75.9,
          69.5,
          73
         ],
         "xaxis": "x",
         "y": [
          7.81,
          7.69,
          6.29,
          6.67,
          7.87,
          6.99,
          7.46,
          7.34,
          5.77,
          6.45
         ],
         "yaxis": "y"
        },
        {
         "hovertemplate": "<b>%{hovertext}</b><br><br>Region=Americas<br>Life Expectancy=%{x}<br>Human Freedom Score=%{y}<br>Happiness Score=%{marker.size}<extra></extra>",
         "hovertext": [
          "Argentina",
          "Chile",
          "Colombia",
          "Costa Rica",
          "Dominican Republic",
          "Ecuador",
          "El Salvador",
          "Guatemala",
          "Honduras",
          "Mexico",
          "Panama",
          "Peru",
          "United States"
         ],
         "legendgroup": "Americas",
         "marker": {
          "color": "#EF553B",
          "size": [
           6.086,
           6.444,
           6.125,
           7.167000000000002,
           5.425,
           6.028,
           6.252999999999999,
           6.436,
           5.86,
           6.595,
           6.3210000000000015,
           5.697,
           6.892
          ],
          "sizemode": "area",
          "sizeref": 0.0194225,
          "symbol": "circle"
         },
         "mode": "markers",
         "name": "Americas",
         "orientation": "v",
         "showlegend": true,
         "type": "scatter",
         "x": [
          76.6,
          80.7,
          79.3,
          80.8,
          72.8,
          78.4,
          75,
          72,
          71.9,
          76,
          79.3,
          79.9,
          78.5
         ],
         "xaxis": "x",
         "y": [
          7.05,
          8.18,
          6.85,
          7.84,
          7.37,
          7.14,
          7.03,
          7.21,
          6.94,
          6.85,
          7.87,
          7.68,
          8.44
         ],
         "yaxis": "y"
        },
        {
         "hovertemplate": "<b>%{hovertext}</b><br><br>Region=Europe<br>Life Expectancy=%{x}<br>Human Freedom Score=%{y}<br>Happiness Score=%{marker.size}<extra></extra>",
         "hovertext": [
          "Austria",
          "Belgium",
          "Bulgaria",
          "Croatia",
          "Cyprus",
          "Denmark",
          "Estonia",
          "Finland",
          "France",
          "Greece",
          "Hungary",
          "Ireland",
          "Italy",
          "Latvia",
          "Lithuania",
          "Luxembourg",
          "Malta",
          "Poland",
          "Portugal",
          "Romania",
          "Slovenia",
          "Spain",
          "Sweden",
          "Switzerland"
         ],
         "legendgroup": "Europe",
         "marker": {
          "color": "#00cc96",
          "size": [
           7.246,
           6.922999999999999,
           5.011,
           5.432,
           6.046,
           7.6,
           5.893,
           7.769,
           6.5920000000000005,
           5.287000000000001,
           5.757999999999999,
           7.021,
           6.223,
           5.94,
           6.149,
           7.09,
           6.726,
           6.182,
           5.693,
           6.07,
           6.1179999999999986,
           6.354,
           7.343,
           7.48
          ],
          "sizemode": "area",
          "sizeref": 0.0194225,
          "symbol": "circle"
         },
         "mode": "markers",
         "name": "Europe",
         "orientation": "v",
         "showlegend": true,
         "type": "scatter",
         "x": [
          81.6,
          81.4,
          75.1,
          78.6,
          83.1,
          81.3,
          78.9,
          81.6,
          82.5,
          81.1,
          76.4,
          81.8,
          83,
          75.4,
          76,
          82.4,
          81.9,
          78.3,
          81.6,
          75.6,
          81.3,
          83.2,
          82.4,
          83.4
         ],
         "xaxis": "x",
         "y": [
          8.45,
          8.28,
          7.93,
          7.92,
          8.05,
          8.73,
          8.54,
          8.49,
          8.05,
          7.38,
          7.61,
          8.62,
          8.12,
          8.34,
          8.37,
          8.49,
          8.33,
          7.72,
          8.27,
          8.09,
          8.05,
          8.2,
          8.52,
          8.82
         ],
         "yaxis": "y"
        },
        {
         "hovertemplate": "<b>%{hovertext}</b><br><br>Region=Asia/Pacific<br>Life Expectancy=%{x}<br>Human Freedom Score=%{y}<br>Happiness Score=%{marker.size}<extra></extra>",
         "hovertext": [
          "Bangladesh",
          "Cambodia",
          "India",
          "Indonesia",
          "Malaysia",
          "Mongolia",
          "Myanmar",
          "Nepal",
          "Pakistan",
          "Philippines",
          "Singapore",
          "Sri Lanka",
          "Thailand"
         ],
         "legendgroup": "Asia/Pacific",
         "marker": {
          "color": "#ab63fa",
          "size": [
           4.456,
           4.7,
           4.015,
           5.192,
           5.339,
           5.285,
           4.36,
           4.913,
           5.653,
           5.631,
           6.2620000000000005,
           4.3660000000000005,
           6.007999999999999
          ],
          "sizemode": "area",
          "sizeref": 0.0194225,
          "symbol": "circle"
         },
         "mode": "markers",
         "name": "Asia/Pacific",
         "orientation": "v",
         "showlegend": true,
         "type": "scatter",
         "x": [
          74.3,
          70.1,
          70.8,
          71.3,
          74.7,
          68.1,
          69.1,
          70.9,
          65.6,
          70.4,
          83.2,
          76.9,
          77.7
         ],
         "xaxis": "x",
         "y": [
          5.67,
          6.83,
          6.43,
          7.07,
          6.9,
          7.61,
          5.45,
          6.76,
          5.64,
          6.9,
          8.21,
          6.72,
          6.37
         ],
         "yaxis": "y"
        },
        {
         "hovertemplate": "<b>%{hovertext}</b><br><br>Region=Sub-Saharan Africa<br>Life Expectancy=%{x}<br>Human Freedom Score=%{y}<br>Happiness Score=%{marker.size}<extra></extra>",
         "hovertext": [
          "Benin",
          "Botswana",
          "Burkina Faso",
          "Cameroon",
          "Chad",
          "Ethiopia",
          "Ghana",
          "Guinea",
          "Kenya",
          "Liberia",
          "Madagascar",
          "Malawi",
          "Mali",
          "Mauritania",
          "Niger",
          "Rwanda",
          "Senegal",
          "Sierra Leone",
          "South Africa",
          "Uganda",
          "Zambia",
          "Zimbabwe"
         ],
         "legendgroup": "Sub-Saharan Africa",
         "marker": {
          "color": "#FFA15A",
          "size": [
           4.883,
           3.488,
           4.587,
           5.044,
           4.35,
           4.2860000000000005,
           4.996,
           4.534,
           4.509,
           3.975,
           3.933,
           3.41,
           4.39,
           4.49,
           4.628,
           3.334,
           4.681,
           4.374,
           4.722,
           4.189,
           4.107,
           3.663
          ],
          "sizemode": "area",
          "sizeref": 0.0194225,
          "symbol": "circle"
         },
         "mode": "markers",
         "name": "Sub-Saharan Africa",
         "orientation": "v",
         "showlegend": true,
         "type": "scatter",
         "x": [
          63.4,
          62.2,
          62.7,
          62.4,
          59.6,
          68.7,
          66.3,
          61,
          66.1,
          64.1,
          65.3,
          65.6,
          62.8,
          68.4,
          63.3,
          69.1,
          68.6,
          60.8,
          65.3,
          66.7,
          62.5,
          60.7
         ],
         "xaxis": "x",
         "y": [
          6.81,
          7.35,
          6.6,
          5.46,
          5.59,
          5.4,
          7.04,
          5.45,
          6.75,
          6.4,
          6.54,
          6.57,
          5.92,
          5.39,
          5.97,
          6.97,
          6.66,
          6.21,
          7.07,
          6.58,
          6.71,
          5.59
         ],
         "yaxis": "y"
        },
        {
         "hovertemplate": "<b>%{hovertext}</b><br><br>Region=Middle East/North Africa<br>Life Expectancy=%{x}<br>Human Freedom Score=%{y}<br>Happiness Score=%{marker.size}<extra></extra>",
         "hovertext": [
          "Israel",
          "Jordan",
          "Morocco",
          "Saudi Arabia",
          "Tunisia",
          "United Arab Emirates"
         ],
         "legendgroup": "Middle East/North Africa",
         "marker": {
          "color": "#19d3f3",
          "size": [
           7.1389999999999985,
           4.9060000000000015,
           5.207999999999998,
           6.375,
           4.461,
           6.825
          ],
          "sizemode": "area",
          "sizeref": 0.0194225,
          "symbol": "circle"
         },
         "mode": "markers",
         "name": "Middle East/North Africa",
         "orientation": "v",
         "showlegend": true,
         "type": "scatter",
         "x": [
          82.6,
          77.9,
          73,
          74.3,
          77,
          76.1
         ],
         "xaxis": "x",
         "y": [
          7.44,
          6.92,
          6.28,
          5.29,
          6.04,
          6.17
         ],
         "yaxis": "y"
        }
       ],
       "layout": {
        "font": {
         "color": "midnightblue",
         "family": "Courier New"
        },
        "legend": {
         "itemsizing": "constant",
         "title": {
          "font": {
           "color": "dimgrey"
          },
          "text": "Region"
         },
         "tracegroupgap": 0
        },
        "template": {
         "data": {
          "bar": [
           {
            "error_x": {
             "color": "#2a3f5f"
            },
            "error_y": {
             "color": "#2a3f5f"
            },
            "marker": {
             "line": {
              "color": "#E5ECF6",
              "width": 0.5
             }
            },
            "type": "bar"
           }
          ],
          "barpolar": [
           {
            "marker": {
             "line": {
              "color": "#E5ECF6",
              "width": 0.5
             }
            },
            "type": "barpolar"
           }
          ],
          "carpet": [
           {
            "aaxis": {
             "endlinecolor": "#2a3f5f",
             "gridcolor": "white",
             "linecolor": "white",
             "minorgridcolor": "white",
             "startlinecolor": "#2a3f5f"
            },
            "baxis": {
             "endlinecolor": "#2a3f5f",
             "gridcolor": "white",
             "linecolor": "white",
             "minorgridcolor": "white",
             "startlinecolor": "#2a3f5f"
            },
            "type": "carpet"
           }
          ],
          "choropleth": [
           {
            "colorbar": {
             "outlinewidth": 0,
             "ticks": ""
            },
            "type": "choropleth"
           }
          ],
          "contour": [
           {
            "colorbar": {
             "outlinewidth": 0,
             "ticks": ""
            },
            "colorscale": [
             [
              0,
              "#0d0887"
             ],
             [
              0.1111111111111111,
              "#46039f"
             ],
             [
              0.2222222222222222,
              "#7201a8"
             ],
             [
              0.3333333333333333,
              "#9c179e"
             ],
             [
              0.4444444444444444,
              "#bd3786"
             ],
             [
              0.5555555555555556,
              "#d8576b"
             ],
             [
              0.6666666666666666,
              "#ed7953"
             ],
             [
              0.7777777777777778,
              "#fb9f3a"
             ],
             [
              0.8888888888888888,
              "#fdca26"
             ],
             [
              1,
              "#f0f921"
             ]
            ],
            "type": "contour"
           }
          ],
          "contourcarpet": [
           {
            "colorbar": {
             "outlinewidth": 0,
             "ticks": ""
            },
            "type": "contourcarpet"
           }
          ],
          "heatmap": [
           {
            "colorbar": {
             "outlinewidth": 0,
             "ticks": ""
            },
            "colorscale": [
             [
              0,
              "#0d0887"
             ],
             [
              0.1111111111111111,
              "#46039f"
             ],
             [
              0.2222222222222222,
              "#7201a8"
             ],
             [
              0.3333333333333333,
              "#9c179e"
             ],
             [
              0.4444444444444444,
              "#bd3786"
             ],
             [
              0.5555555555555556,
              "#d8576b"
             ],
             [
              0.6666666666666666,
              "#ed7953"
             ],
             [
              0.7777777777777778,
              "#fb9f3a"
             ],
             [
              0.8888888888888888,
              "#fdca26"
             ],
             [
              1,
              "#f0f921"
             ]
            ],
            "type": "heatmap"
           }
          ],
          "heatmapgl": [
           {
            "colorbar": {
             "outlinewidth": 0,
             "ticks": ""
            },
            "colorscale": [
             [
              0,
              "#0d0887"
             ],
             [
              0.1111111111111111,
              "#46039f"
             ],
             [
              0.2222222222222222,
              "#7201a8"
             ],
             [
              0.3333333333333333,
              "#9c179e"
             ],
             [
              0.4444444444444444,
              "#bd3786"
             ],
             [
              0.5555555555555556,
              "#d8576b"
             ],
             [
              0.6666666666666666,
              "#ed7953"
             ],
             [
              0.7777777777777778,
              "#fb9f3a"
             ],
             [
              0.8888888888888888,
              "#fdca26"
             ],
             [
              1,
              "#f0f921"
             ]
            ],
            "type": "heatmapgl"
           }
          ],
          "histogram": [
           {
            "marker": {
             "colorbar": {
              "outlinewidth": 0,
              "ticks": ""
             }
            },
            "type": "histogram"
           }
          ],
          "histogram2d": [
           {
            "colorbar": {
             "outlinewidth": 0,
             "ticks": ""
            },
            "colorscale": [
             [
              0,
              "#0d0887"
             ],
             [
              0.1111111111111111,
              "#46039f"
             ],
             [
              0.2222222222222222,
              "#7201a8"
             ],
             [
              0.3333333333333333,
              "#9c179e"
             ],
             [
              0.4444444444444444,
              "#bd3786"
             ],
             [
              0.5555555555555556,
              "#d8576b"
             ],
             [
              0.6666666666666666,
              "#ed7953"
             ],
             [
              0.7777777777777778,
              "#fb9f3a"
             ],
             [
              0.8888888888888888,
              "#fdca26"
             ],
             [
              1,
              "#f0f921"
             ]
            ],
            "type": "histogram2d"
           }
          ],
          "histogram2dcontour": [
           {
            "colorbar": {
             "outlinewidth": 0,
             "ticks": ""
            },
            "colorscale": [
             [
              0,
              "#0d0887"
             ],
             [
              0.1111111111111111,
              "#46039f"
             ],
             [
              0.2222222222222222,
              "#7201a8"
             ],
             [
              0.3333333333333333,
              "#9c179e"
             ],
             [
              0.4444444444444444,
              "#bd3786"
             ],
             [
              0.5555555555555556,
              "#d8576b"
             ],
             [
              0.6666666666666666,
              "#ed7953"
             ],
             [
              0.7777777777777778,
              "#fb9f3a"
             ],
             [
              0.8888888888888888,
              "#fdca26"
             ],
             [
              1,
              "#f0f921"
             ]
            ],
            "type": "histogram2dcontour"
           }
          ],
          "mesh3d": [
           {
            "colorbar": {
             "outlinewidth": 0,
             "ticks": ""
            },
            "type": "mesh3d"
           }
          ],
          "parcoords": [
           {
            "line": {
             "colorbar": {
              "outlinewidth": 0,
              "ticks": ""
             }
            },
            "type": "parcoords"
           }
          ],
          "pie": [
           {
            "automargin": true,
            "type": "pie"
           }
          ],
          "scatter": [
           {
            "marker": {
             "colorbar": {
              "outlinewidth": 0,
              "ticks": ""
             }
            },
            "type": "scatter"
           }
          ],
          "scatter3d": [
           {
            "line": {
             "colorbar": {
              "outlinewidth": 0,
              "ticks": ""
             }
            },
            "marker": {
             "colorbar": {
              "outlinewidth": 0,
              "ticks": ""
             }
            },
            "type": "scatter3d"
           }
          ],
          "scattercarpet": [
           {
            "marker": {
             "colorbar": {
              "outlinewidth": 0,
              "ticks": ""
             }
            },
            "type": "scattercarpet"
           }
          ],
          "scattergeo": [
           {
            "marker": {
             "colorbar": {
              "outlinewidth": 0,
              "ticks": ""
             }
            },
            "type": "scattergeo"
           }
          ],
          "scattergl": [
           {
            "marker": {
             "colorbar": {
              "outlinewidth": 0,
              "ticks": ""
             }
            },
            "type": "scattergl"
           }
          ],
          "scattermapbox": [
           {
            "marker": {
             "colorbar": {
              "outlinewidth": 0,
              "ticks": ""
             }
            },
            "type": "scattermapbox"
           }
          ],
          "scatterpolar": [
           {
            "marker": {
             "colorbar": {
              "outlinewidth": 0,
              "ticks": ""
             }
            },
            "type": "scatterpolar"
           }
          ],
          "scatterpolargl": [
           {
            "marker": {
             "colorbar": {
              "outlinewidth": 0,
              "ticks": ""
             }
            },
            "type": "scatterpolargl"
           }
          ],
          "scatterternary": [
           {
            "marker": {
             "colorbar": {
              "outlinewidth": 0,
              "ticks": ""
             }
            },
            "type": "scatterternary"
           }
          ],
          "surface": [
           {
            "colorbar": {
             "outlinewidth": 0,
             "ticks": ""
            },
            "colorscale": [
             [
              0,
              "#0d0887"
             ],
             [
              0.1111111111111111,
              "#46039f"
             ],
             [
              0.2222222222222222,
              "#7201a8"
             ],
             [
              0.3333333333333333,
              "#9c179e"
             ],
             [
              0.4444444444444444,
              "#bd3786"
             ],
             [
              0.5555555555555556,
              "#d8576b"
             ],
             [
              0.6666666666666666,
              "#ed7953"
             ],
             [
              0.7777777777777778,
              "#fb9f3a"
             ],
             [
              0.8888888888888888,
              "#fdca26"
             ],
             [
              1,
              "#f0f921"
             ]
            ],
            "type": "surface"
           }
          ],
          "table": [
           {
            "cells": {
             "fill": {
              "color": "#EBF0F8"
             },
             "line": {
              "color": "white"
             }
            },
            "header": {
             "fill": {
              "color": "#C8D4E3"
             },
             "line": {
              "color": "white"
             }
            },
            "type": "table"
           }
          ]
         },
         "layout": {
          "annotationdefaults": {
           "arrowcolor": "#2a3f5f",
           "arrowhead": 0,
           "arrowwidth": 1
          },
          "autotypenumbers": "strict",
          "coloraxis": {
           "colorbar": {
            "outlinewidth": 0,
            "ticks": ""
           }
          },
          "colorscale": {
           "diverging": [
            [
             0,
             "#8e0152"
            ],
            [
             0.1,
             "#c51b7d"
            ],
            [
             0.2,
             "#de77ae"
            ],
            [
             0.3,
             "#f1b6da"
            ],
            [
             0.4,
             "#fde0ef"
            ],
            [
             0.5,
             "#f7f7f7"
            ],
            [
             0.6,
             "#e6f5d0"
            ],
            [
             0.7,
             "#b8e186"
            ],
            [
             0.8,
             "#7fbc41"
            ],
            [
             0.9,
             "#4d9221"
            ],
            [
             1,
             "#276419"
            ]
           ],
           "sequential": [
            [
             0,
             "#0d0887"
            ],
            [
             0.1111111111111111,
             "#46039f"
            ],
            [
             0.2222222222222222,
             "#7201a8"
            ],
            [
             0.3333333333333333,
             "#9c179e"
            ],
            [
             0.4444444444444444,
             "#bd3786"
            ],
            [
             0.5555555555555556,
             "#d8576b"
            ],
            [
             0.6666666666666666,
             "#ed7953"
            ],
            [
             0.7777777777777778,
             "#fb9f3a"
            ],
            [
             0.8888888888888888,
             "#fdca26"
            ],
            [
             1,
             "#f0f921"
            ]
           ],
           "sequentialminus": [
            [
             0,
             "#0d0887"
            ],
            [
             0.1111111111111111,
             "#46039f"
            ],
            [
             0.2222222222222222,
             "#7201a8"
            ],
            [
             0.3333333333333333,
             "#9c179e"
            ],
            [
             0.4444444444444444,
             "#bd3786"
            ],
            [
             0.5555555555555556,
             "#d8576b"
            ],
            [
             0.6666666666666666,
             "#ed7953"
            ],
            [
             0.7777777777777778,
             "#fb9f3a"
            ],
            [
             0.8888888888888888,
             "#fdca26"
            ],
            [
             1,
             "#f0f921"
            ]
           ]
          },
          "colorway": [
           "#636efa",
           "#EF553B",
           "#00cc96",
           "#ab63fa",
           "#FFA15A",
           "#19d3f3",
           "#FF6692",
           "#B6E880",
           "#FF97FF",
           "#FECB52"
          ],
          "font": {
           "color": "#2a3f5f"
          },
          "geo": {
           "bgcolor": "white",
           "lakecolor": "white",
           "landcolor": "#E5ECF6",
           "showlakes": true,
           "showland": true,
           "subunitcolor": "white"
          },
          "hoverlabel": {
           "align": "left"
          },
          "hovermode": "closest",
          "mapbox": {
           "style": "light"
          },
          "paper_bgcolor": "white",
          "plot_bgcolor": "#E5ECF6",
          "polar": {
           "angularaxis": {
            "gridcolor": "white",
            "linecolor": "white",
            "ticks": ""
           },
           "bgcolor": "#E5ECF6",
           "radialaxis": {
            "gridcolor": "white",
            "linecolor": "white",
            "ticks": ""
           }
          },
          "scene": {
           "xaxis": {
            "backgroundcolor": "#E5ECF6",
            "gridcolor": "white",
            "gridwidth": 2,
            "linecolor": "white",
            "showbackground": true,
            "ticks": "",
            "zerolinecolor": "white"
           },
           "yaxis": {
            "backgroundcolor": "#E5ECF6",
            "gridcolor": "white",
            "gridwidth": 2,
            "linecolor": "white",
            "showbackground": true,
            "ticks": "",
            "zerolinecolor": "white"
           },
           "zaxis": {
            "backgroundcolor": "#E5ECF6",
            "gridcolor": "white",
            "gridwidth": 2,
            "linecolor": "white",
            "showbackground": true,
            "ticks": "",
            "zerolinecolor": "white"
           }
          },
          "shapedefaults": {
           "line": {
            "color": "#2a3f5f"
           }
          },
          "ternary": {
           "aaxis": {
            "gridcolor": "white",
            "linecolor": "white",
            "ticks": ""
           },
           "baxis": {
            "gridcolor": "white",
            "linecolor": "white",
            "ticks": ""
           },
           "bgcolor": "#E5ECF6",
           "caxis": {
            "gridcolor": "white",
            "linecolor": "white",
            "ticks": ""
           }
          },
          "title": {
           "x": 0.05
          },
          "xaxis": {
           "automargin": true,
           "gridcolor": "white",
           "linecolor": "white",
           "ticks": "",
           "title": {
            "standoff": 15
           },
           "zerolinecolor": "white",
           "zerolinewidth": 2
          },
          "yaxis": {
           "automargin": true,
           "gridcolor": "white",
           "linecolor": "white",
           "ticks": "",
           "title": {
            "standoff": 15
           },
           "zerolinecolor": "white",
           "zerolinewidth": 2
          }
         }
        },
        "title": {
         "font": {
          "color": "dimgrey",
          "family": "Times New Roman"
         },
         "text": "Life Expectancy, Human Freedom, and Happiness"
        },
        "xaxis": {
         "anchor": "y",
         "domain": [
          0,
          1
         ],
         "title": {
          "text": "Life Expectancy"
         }
        },
        "yaxis": {
         "anchor": "x",
         "domain": [
          0,
          1
         ],
         "title": {
          "text": "Human Freedom Score"
         }
        }
       }
      },
      "text/html": [
       "<div>                            <div id=\"b445245c-4916-4461-bb48-bc2a55117323\" class=\"plotly-graph-div\" style=\"height:525px; width:100%;\"></div>            <script type=\"text/javascript\">                require([\"plotly\"], function(Plotly) {                    window.PLOTLYENV=window.PLOTLYENV || {};                                    if (document.getElementById(\"b445245c-4916-4461-bb48-bc2a55117323\")) {                    Plotly.newPlot(                        \"b445245c-4916-4461-bb48-bc2a55117323\",                        [{\"hovertemplate\": \"<b>%{hovertext}</b><br><br>Region=Europe Central Asia<br>Life Expectancy=%{x}<br>Human Freedom Score=%{y}<br>Happiness Score=%{marker.size}<extra></extra>\", \"hovertext\": [\"Albania\", \"Armenia\", \"Azerbaijan\", \"Belarus\", \"Georgia\", \"Kazakhstan\", \"Montenegro\", \"Serbia\", \"Tajikistan\", \"Ukraine\"], \"legendgroup\": \"Europe Central Asia\", \"marker\": {\"color\": \"#636efa\", \"size\": [4.7189999999999985, 4.559, 5.207999999999998, 5.323, 4.519, 5.809, 5.523, 5.603, 5.4670000000000005, 4.332], \"sizemode\": \"area\", \"sizeref\": 0.0194225, \"symbol\": \"circle\"}, \"mode\": \"markers\", \"name\": \"Europe Central Asia\", \"orientation\": \"v\", \"showlegend\": true, \"type\": \"scatter\", \"x\": [78.0, 76.0, 71.4, 74.8, 73.3, 74.0, 75.9, 75.9, 69.5, 73.0], \"xaxis\": \"x\", \"y\": [7.81, 7.69, 6.29, 6.67, 7.87, 6.99, 7.46, 7.34, 5.77, 6.45], \"yaxis\": \"y\"}, {\"hovertemplate\": \"<b>%{hovertext}</b><br><br>Region=Americas<br>Life Expectancy=%{x}<br>Human Freedom Score=%{y}<br>Happiness Score=%{marker.size}<extra></extra>\", \"hovertext\": [\"Argentina\", \"Chile\", \"Colombia\", \"Costa Rica\", \"Dominican Republic\", \"Ecuador\", \"El Salvador\", \"Guatemala\", \"Honduras\", \"Mexico\", \"Panama\", \"Peru\", \"United States\"], \"legendgroup\": \"Americas\", \"marker\": {\"color\": \"#EF553B\", \"size\": [6.086, 6.444, 6.125, 7.167000000000002, 5.425, 6.028, 6.252999999999999, 6.436, 5.86, 6.595, 6.3210000000000015, 5.697, 6.892], \"sizemode\": \"area\", \"sizeref\": 0.0194225, \"symbol\": \"circle\"}, \"mode\": \"markers\", \"name\": \"Americas\", \"orientation\": \"v\", \"showlegend\": true, \"type\": \"scatter\", \"x\": [76.6, 80.7, 79.3, 80.8, 72.8, 78.4, 75.0, 72.0, 71.9, 76.0, 79.3, 79.9, 78.5], \"xaxis\": \"x\", \"y\": [7.05, 8.18, 6.85, 7.84, 7.37, 7.14, 7.03, 7.21, 6.94, 6.85, 7.87, 7.68, 8.44], \"yaxis\": \"y\"}, {\"hovertemplate\": \"<b>%{hovertext}</b><br><br>Region=Europe<br>Life Expectancy=%{x}<br>Human Freedom Score=%{y}<br>Happiness Score=%{marker.size}<extra></extra>\", \"hovertext\": [\"Austria\", \"Belgium\", \"Bulgaria\", \"Croatia\", \"Cyprus\", \"Denmark\", \"Estonia\", \"Finland\", \"France\", \"Greece\", \"Hungary\", \"Ireland\", \"Italy\", \"Latvia\", \"Lithuania\", \"Luxembourg\", \"Malta\", \"Poland\", \"Portugal\", \"Romania\", \"Slovenia\", \"Spain\", \"Sweden\", \"Switzerland\"], \"legendgroup\": \"Europe\", \"marker\": {\"color\": \"#00cc96\", \"size\": [7.246, 6.922999999999999, 5.011, 5.432, 6.046, 7.6, 5.893, 7.769, 6.5920000000000005, 5.287000000000001, 5.757999999999999, 7.021, 6.223, 5.94, 6.149, 7.09, 6.726, 6.182, 5.693, 6.07, 6.1179999999999986, 6.354, 7.343, 7.48], \"sizemode\": \"area\", \"sizeref\": 0.0194225, \"symbol\": \"circle\"}, \"mode\": \"markers\", \"name\": \"Europe\", \"orientation\": \"v\", \"showlegend\": true, \"type\": \"scatter\", \"x\": [81.6, 81.4, 75.1, 78.6, 83.1, 81.3, 78.9, 81.6, 82.5, 81.1, 76.4, 81.8, 83.0, 75.4, 76.0, 82.4, 81.9, 78.3, 81.6, 75.6, 81.3, 83.2, 82.4, 83.4], \"xaxis\": \"x\", \"y\": [8.45, 8.28, 7.93, 7.92, 8.05, 8.73, 8.54, 8.49, 8.05, 7.38, 7.61, 8.62, 8.12, 8.34, 8.37, 8.49, 8.33, 7.72, 8.27, 8.09, 8.05, 8.2, 8.52, 8.82], \"yaxis\": \"y\"}, {\"hovertemplate\": \"<b>%{hovertext}</b><br><br>Region=Asia/Pacific<br>Life Expectancy=%{x}<br>Human Freedom Score=%{y}<br>Happiness Score=%{marker.size}<extra></extra>\", \"hovertext\": [\"Bangladesh\", \"Cambodia\", \"India\", \"Indonesia\", \"Malaysia\", \"Mongolia\", \"Myanmar\", \"Nepal\", \"Pakistan\", \"Philippines\", \"Singapore\", \"Sri Lanka\", \"Thailand\"], \"legendgroup\": \"Asia/Pacific\", \"marker\": {\"color\": \"#ab63fa\", \"size\": [4.456, 4.7, 4.015, 5.192, 5.339, 5.285, 4.36, 4.913, 5.653, 5.631, 6.2620000000000005, 4.3660000000000005, 6.007999999999999], \"sizemode\": \"area\", \"sizeref\": 0.0194225, \"symbol\": \"circle\"}, \"mode\": \"markers\", \"name\": \"Asia/Pacific\", \"orientation\": \"v\", \"showlegend\": true, \"type\": \"scatter\", \"x\": [74.3, 70.1, 70.8, 71.3, 74.7, 68.1, 69.1, 70.9, 65.6, 70.4, 83.2, 76.9, 77.7], \"xaxis\": \"x\", \"y\": [5.67, 6.83, 6.43, 7.07, 6.9, 7.61, 5.45, 6.76, 5.64, 6.9, 8.21, 6.72, 6.37], \"yaxis\": \"y\"}, {\"hovertemplate\": \"<b>%{hovertext}</b><br><br>Region=Sub-Saharan Africa<br>Life Expectancy=%{x}<br>Human Freedom Score=%{y}<br>Happiness Score=%{marker.size}<extra></extra>\", \"hovertext\": [\"Benin\", \"Botswana\", \"Burkina Faso\", \"Cameroon\", \"Chad\", \"Ethiopia\", \"Ghana\", \"Guinea\", \"Kenya\", \"Liberia\", \"Madagascar\", \"Malawi\", \"Mali\", \"Mauritania\", \"Niger\", \"Rwanda\", \"Senegal\", \"Sierra Leone\", \"South Africa\", \"Uganda\", \"Zambia\", \"Zimbabwe\"], \"legendgroup\": \"Sub-Saharan Africa\", \"marker\": {\"color\": \"#FFA15A\", \"size\": [4.883, 3.488, 4.587, 5.044, 4.35, 4.2860000000000005, 4.996, 4.534, 4.509, 3.975, 3.933, 3.41, 4.39, 4.49, 4.628, 3.334, 4.681, 4.374, 4.722, 4.189, 4.107, 3.663], \"sizemode\": \"area\", \"sizeref\": 0.0194225, \"symbol\": \"circle\"}, \"mode\": \"markers\", \"name\": \"Sub-Saharan Africa\", \"orientation\": \"v\", \"showlegend\": true, \"type\": \"scatter\", \"x\": [63.4, 62.2, 62.7, 62.4, 59.6, 68.7, 66.3, 61.0, 66.1, 64.1, 65.3, 65.6, 62.8, 68.4, 63.3, 69.1, 68.6, 60.8, 65.3, 66.7, 62.5, 60.7], \"xaxis\": \"x\", \"y\": [6.81, 7.35, 6.6, 5.46, 5.59, 5.4, 7.04, 5.45, 6.75, 6.4, 6.54, 6.57, 5.92, 5.39, 5.97, 6.97, 6.66, 6.21, 7.07, 6.58, 6.71, 5.59], \"yaxis\": \"y\"}, {\"hovertemplate\": \"<b>%{hovertext}</b><br><br>Region=Middle East/North Africa<br>Life Expectancy=%{x}<br>Human Freedom Score=%{y}<br>Happiness Score=%{marker.size}<extra></extra>\", \"hovertext\": [\"Israel\", \"Jordan\", \"Morocco\", \"Saudi Arabia\", \"Tunisia\", \"United Arab Emirates\"], \"legendgroup\": \"Middle East/North Africa\", \"marker\": {\"color\": \"#19d3f3\", \"size\": [7.1389999999999985, 4.9060000000000015, 5.207999999999998, 6.375, 4.461, 6.825], \"sizemode\": \"area\", \"sizeref\": 0.0194225, \"symbol\": \"circle\"}, \"mode\": \"markers\", \"name\": \"Middle East/North Africa\", \"orientation\": \"v\", \"showlegend\": true, \"type\": \"scatter\", \"x\": [82.6, 77.9, 73.0, 74.3, 77.0, 76.1], \"xaxis\": \"x\", \"y\": [7.44, 6.92, 6.28, 5.29, 6.04, 6.17], \"yaxis\": \"y\"}],                        {\"font\": {\"color\": \"midnightblue\", \"family\": \"Courier New\"}, \"legend\": {\"itemsizing\": \"constant\", \"title\": {\"font\": {\"color\": \"dimgrey\"}, \"text\": \"Region\"}, \"tracegroupgap\": 0}, \"template\": {\"data\": {\"bar\": [{\"error_x\": {\"color\": \"#2a3f5f\"}, \"error_y\": {\"color\": \"#2a3f5f\"}, \"marker\": {\"line\": {\"color\": \"#E5ECF6\", \"width\": 0.5}}, \"type\": \"bar\"}], \"barpolar\": [{\"marker\": {\"line\": {\"color\": \"#E5ECF6\", \"width\": 0.5}}, \"type\": \"barpolar\"}], \"carpet\": [{\"aaxis\": {\"endlinecolor\": \"#2a3f5f\", \"gridcolor\": \"white\", \"linecolor\": \"white\", \"minorgridcolor\": \"white\", \"startlinecolor\": \"#2a3f5f\"}, \"baxis\": {\"endlinecolor\": \"#2a3f5f\", \"gridcolor\": \"white\", \"linecolor\": \"white\", \"minorgridcolor\": \"white\", \"startlinecolor\": \"#2a3f5f\"}, \"type\": \"carpet\"}], \"choropleth\": [{\"colorbar\": {\"outlinewidth\": 0, \"ticks\": \"\"}, \"type\": \"choropleth\"}], \"contour\": [{\"colorbar\": {\"outlinewidth\": 0, \"ticks\": \"\"}, \"colorscale\": [[0.0, \"#0d0887\"], [0.1111111111111111, \"#46039f\"], [0.2222222222222222, \"#7201a8\"], [0.3333333333333333, \"#9c179e\"], [0.4444444444444444, \"#bd3786\"], [0.5555555555555556, \"#d8576b\"], [0.6666666666666666, \"#ed7953\"], [0.7777777777777778, \"#fb9f3a\"], [0.8888888888888888, \"#fdca26\"], [1.0, \"#f0f921\"]], \"type\": \"contour\"}], \"contourcarpet\": [{\"colorbar\": {\"outlinewidth\": 0, \"ticks\": \"\"}, \"type\": \"contourcarpet\"}], \"heatmap\": [{\"colorbar\": {\"outlinewidth\": 0, \"ticks\": \"\"}, \"colorscale\": [[0.0, \"#0d0887\"], [0.1111111111111111, \"#46039f\"], [0.2222222222222222, \"#7201a8\"], [0.3333333333333333, \"#9c179e\"], [0.4444444444444444, \"#bd3786\"], [0.5555555555555556, \"#d8576b\"], [0.6666666666666666, \"#ed7953\"], [0.7777777777777778, \"#fb9f3a\"], [0.8888888888888888, \"#fdca26\"], [1.0, \"#f0f921\"]], \"type\": \"heatmap\"}], \"heatmapgl\": [{\"colorbar\": {\"outlinewidth\": 0, \"ticks\": \"\"}, \"colorscale\": [[0.0, \"#0d0887\"], [0.1111111111111111, \"#46039f\"], [0.2222222222222222, \"#7201a8\"], [0.3333333333333333, \"#9c179e\"], [0.4444444444444444, \"#bd3786\"], [0.5555555555555556, \"#d8576b\"], [0.6666666666666666, \"#ed7953\"], [0.7777777777777778, \"#fb9f3a\"], [0.8888888888888888, \"#fdca26\"], [1.0, \"#f0f921\"]], \"type\": \"heatmapgl\"}], \"histogram\": [{\"marker\": {\"colorbar\": {\"outlinewidth\": 0, \"ticks\": \"\"}}, \"type\": \"histogram\"}], \"histogram2d\": [{\"colorbar\": {\"outlinewidth\": 0, \"ticks\": \"\"}, \"colorscale\": [[0.0, \"#0d0887\"], [0.1111111111111111, \"#46039f\"], [0.2222222222222222, \"#7201a8\"], [0.3333333333333333, \"#9c179e\"], [0.4444444444444444, \"#bd3786\"], [0.5555555555555556, \"#d8576b\"], [0.6666666666666666, \"#ed7953\"], [0.7777777777777778, \"#fb9f3a\"], [0.8888888888888888, \"#fdca26\"], [1.0, \"#f0f921\"]], \"type\": \"histogram2d\"}], \"histogram2dcontour\": [{\"colorbar\": {\"outlinewidth\": 0, \"ticks\": \"\"}, \"colorscale\": [[0.0, \"#0d0887\"], [0.1111111111111111, \"#46039f\"], [0.2222222222222222, \"#7201a8\"], [0.3333333333333333, \"#9c179e\"], [0.4444444444444444, \"#bd3786\"], [0.5555555555555556, \"#d8576b\"], [0.6666666666666666, \"#ed7953\"], [0.7777777777777778, \"#fb9f3a\"], [0.8888888888888888, \"#fdca26\"], [1.0, \"#f0f921\"]], \"type\": \"histogram2dcontour\"}], \"mesh3d\": [{\"colorbar\": {\"outlinewidth\": 0, \"ticks\": \"\"}, \"type\": \"mesh3d\"}], \"parcoords\": [{\"line\": {\"colorbar\": {\"outlinewidth\": 0, \"ticks\": \"\"}}, \"type\": \"parcoords\"}], \"pie\": [{\"automargin\": true, \"type\": \"pie\"}], \"scatter\": [{\"marker\": {\"colorbar\": {\"outlinewidth\": 0, \"ticks\": \"\"}}, \"type\": \"scatter\"}], \"scatter3d\": [{\"line\": {\"colorbar\": {\"outlinewidth\": 0, \"ticks\": \"\"}}, \"marker\": {\"colorbar\": {\"outlinewidth\": 0, \"ticks\": \"\"}}, \"type\": \"scatter3d\"}], \"scattercarpet\": [{\"marker\": {\"colorbar\": {\"outlinewidth\": 0, \"ticks\": \"\"}}, \"type\": \"scattercarpet\"}], \"scattergeo\": [{\"marker\": {\"colorbar\": {\"outlinewidth\": 0, \"ticks\": \"\"}}, \"type\": \"scattergeo\"}], \"scattergl\": [{\"marker\": {\"colorbar\": {\"outlinewidth\": 0, \"ticks\": \"\"}}, \"type\": \"scattergl\"}], \"scattermapbox\": [{\"marker\": {\"colorbar\": {\"outlinewidth\": 0, \"ticks\": \"\"}}, \"type\": \"scattermapbox\"}], \"scatterpolar\": [{\"marker\": {\"colorbar\": {\"outlinewidth\": 0, \"ticks\": \"\"}}, \"type\": \"scatterpolar\"}], \"scatterpolargl\": [{\"marker\": {\"colorbar\": {\"outlinewidth\": 0, \"ticks\": \"\"}}, \"type\": \"scatterpolargl\"}], \"scatterternary\": [{\"marker\": {\"colorbar\": {\"outlinewidth\": 0, \"ticks\": \"\"}}, \"type\": \"scatterternary\"}], \"surface\": [{\"colorbar\": {\"outlinewidth\": 0, \"ticks\": \"\"}, \"colorscale\": [[0.0, \"#0d0887\"], [0.1111111111111111, \"#46039f\"], [0.2222222222222222, \"#7201a8\"], [0.3333333333333333, \"#9c179e\"], [0.4444444444444444, \"#bd3786\"], [0.5555555555555556, \"#d8576b\"], [0.6666666666666666, \"#ed7953\"], [0.7777777777777778, \"#fb9f3a\"], [0.8888888888888888, \"#fdca26\"], [1.0, \"#f0f921\"]], \"type\": \"surface\"}], \"table\": [{\"cells\": {\"fill\": {\"color\": \"#EBF0F8\"}, \"line\": {\"color\": \"white\"}}, \"header\": {\"fill\": {\"color\": \"#C8D4E3\"}, \"line\": {\"color\": \"white\"}}, \"type\": \"table\"}]}, \"layout\": {\"annotationdefaults\": {\"arrowcolor\": \"#2a3f5f\", \"arrowhead\": 0, \"arrowwidth\": 1}, \"autotypenumbers\": \"strict\", \"coloraxis\": {\"colorbar\": {\"outlinewidth\": 0, \"ticks\": \"\"}}, \"colorscale\": {\"diverging\": [[0, \"#8e0152\"], [0.1, \"#c51b7d\"], [0.2, \"#de77ae\"], [0.3, \"#f1b6da\"], [0.4, \"#fde0ef\"], [0.5, \"#f7f7f7\"], [0.6, \"#e6f5d0\"], [0.7, \"#b8e186\"], [0.8, \"#7fbc41\"], [0.9, \"#4d9221\"], [1, \"#276419\"]], \"sequential\": [[0.0, \"#0d0887\"], [0.1111111111111111, \"#46039f\"], [0.2222222222222222, \"#7201a8\"], [0.3333333333333333, \"#9c179e\"], [0.4444444444444444, \"#bd3786\"], [0.5555555555555556, \"#d8576b\"], [0.6666666666666666, \"#ed7953\"], [0.7777777777777778, \"#fb9f3a\"], [0.8888888888888888, \"#fdca26\"], [1.0, \"#f0f921\"]], \"sequentialminus\": [[0.0, \"#0d0887\"], [0.1111111111111111, \"#46039f\"], [0.2222222222222222, \"#7201a8\"], [0.3333333333333333, \"#9c179e\"], [0.4444444444444444, \"#bd3786\"], [0.5555555555555556, \"#d8576b\"], [0.6666666666666666, \"#ed7953\"], [0.7777777777777778, \"#fb9f3a\"], [0.8888888888888888, \"#fdca26\"], [1.0, \"#f0f921\"]]}, \"colorway\": [\"#636efa\", \"#EF553B\", \"#00cc96\", \"#ab63fa\", \"#FFA15A\", \"#19d3f3\", \"#FF6692\", \"#B6E880\", \"#FF97FF\", \"#FECB52\"], \"font\": {\"color\": \"#2a3f5f\"}, \"geo\": {\"bgcolor\": \"white\", \"lakecolor\": \"white\", \"landcolor\": \"#E5ECF6\", \"showlakes\": true, \"showland\": true, \"subunitcolor\": \"white\"}, \"hoverlabel\": {\"align\": \"left\"}, \"hovermode\": \"closest\", \"mapbox\": {\"style\": \"light\"}, \"paper_bgcolor\": \"white\", \"plot_bgcolor\": \"#E5ECF6\", \"polar\": {\"angularaxis\": {\"gridcolor\": \"white\", \"linecolor\": \"white\", \"ticks\": \"\"}, \"bgcolor\": \"#E5ECF6\", \"radialaxis\": {\"gridcolor\": \"white\", \"linecolor\": \"white\", \"ticks\": \"\"}}, \"scene\": {\"xaxis\": {\"backgroundcolor\": \"#E5ECF6\", \"gridcolor\": \"white\", \"gridwidth\": 2, \"linecolor\": \"white\", \"showbackground\": true, \"ticks\": \"\", \"zerolinecolor\": \"white\"}, \"yaxis\": {\"backgroundcolor\": \"#E5ECF6\", \"gridcolor\": \"white\", \"gridwidth\": 2, \"linecolor\": \"white\", \"showbackground\": true, \"ticks\": \"\", \"zerolinecolor\": \"white\"}, \"zaxis\": {\"backgroundcolor\": \"#E5ECF6\", \"gridcolor\": \"white\", \"gridwidth\": 2, \"linecolor\": \"white\", \"showbackground\": true, \"ticks\": \"\", \"zerolinecolor\": \"white\"}}, \"shapedefaults\": {\"line\": {\"color\": \"#2a3f5f\"}}, \"ternary\": {\"aaxis\": {\"gridcolor\": \"white\", \"linecolor\": \"white\", \"ticks\": \"\"}, \"baxis\": {\"gridcolor\": \"white\", \"linecolor\": \"white\", \"ticks\": \"\"}, \"bgcolor\": \"#E5ECF6\", \"caxis\": {\"gridcolor\": \"white\", \"linecolor\": \"white\", \"ticks\": \"\"}}, \"title\": {\"x\": 0.05}, \"xaxis\": {\"automargin\": true, \"gridcolor\": \"white\", \"linecolor\": \"white\", \"ticks\": \"\", \"title\": {\"standoff\": 15}, \"zerolinecolor\": \"white\", \"zerolinewidth\": 2}, \"yaxis\": {\"automargin\": true, \"gridcolor\": \"white\", \"linecolor\": \"white\", \"ticks\": \"\", \"title\": {\"standoff\": 15}, \"zerolinecolor\": \"white\", \"zerolinewidth\": 2}}}, \"title\": {\"font\": {\"color\": \"dimgrey\", \"family\": \"Times New Roman\"}, \"text\": \"Life Expectancy, Human Freedom, and Happiness\"}, \"xaxis\": {\"anchor\": \"y\", \"domain\": [0.0, 1.0], \"title\": {\"text\": \"Life Expectancy\"}}, \"yaxis\": {\"anchor\": \"x\", \"domain\": [0.0, 1.0], \"title\": {\"text\": \"Human Freedom Score\"}}},                        {\"responsive\": true}                    ).then(function(){\n",
       "                            \n",
       "var gd = document.getElementById('b445245c-4916-4461-bb48-bc2a55117323');\n",
       "var x = new MutationObserver(function (mutations, observer) {{\n",
       "        var display = window.getComputedStyle(gd).display;\n",
       "        if (!display || display === 'none') {{\n",
       "            console.log([gd, 'removed!']);\n",
       "            Plotly.purge(gd);\n",
       "            observer.disconnect();\n",
       "        }}\n",
       "}});\n",
       "\n",
       "// Listen for the removal of the full notebook cells\n",
       "var notebookContainer = gd.closest('#notebook-container');\n",
       "if (notebookContainer) {{\n",
       "    x.observe(notebookContainer, {childList: true});\n",
       "}}\n",
       "\n",
       "// Listen for the clearing of the current output cell\n",
       "var outputEl = gd.closest('.output');\n",
       "if (outputEl) {{\n",
       "    x.observe(outputEl, {childList: true});\n",
       "}}\n",
       "\n",
       "                        })                };                });            </script>        </div>"
      ]
     },
     "metadata": {},
     "output_type": "display_data"
    }
   ],
   "source": [
    "bubble1()"
   ]
  },
  {
   "cell_type": "code",
   "execution_count": 49,
   "metadata": {},
   "outputs": [
    {
     "data": {
      "application/vnd.plotly.v1+json": {
       "config": {
        "plotlyServerURL": "https://plot.ly"
       },
       "data": [
        {
         "hovertemplate": "<b>%{hovertext}</b><br><br>Region=Europe Central Asia<br>CPI score 2019=%{x}<br>Generosity Score=%{y}<br>Happiness Score=%{marker.size}<extra></extra>",
         "hovertext": [
          "Albania",
          "Armenia",
          "Azerbaijan",
          "Belarus",
          "Georgia",
          "Kazakhstan",
          "Montenegro",
          "Serbia",
          "Tajikistan",
          "Ukraine"
         ],
         "legendgroup": "Europe Central Asia",
         "marker": {
          "color": "#636efa",
          "size": [
           4.7189999999999985,
           4.559,
           5.207999999999998,
           5.323,
           4.519,
           5.809,
           5.523,
           5.603,
           5.4670000000000005,
           4.332
          ],
          "sizemode": "area",
          "sizeref": 0.0194225,
          "symbol": "circle"
         },
         "mode": "markers",
         "name": "Europe Central Asia",
         "orientation": "v",
         "showlegend": true,
         "type": "scatter",
         "x": [
          35,
          42,
          30,
          45,
          56,
          34,
          45,
          39,
          25,
          30
         ],
         "xaxis": "x",
         "y": [
          23,
          21,
          24,
          25,
          21,
          26,
          20,
          19,
          36,
          24
         ],
         "yaxis": "y"
        },
        {
         "hovertemplate": "<b>%{hovertext}</b><br><br>Region=Americas<br>CPI score 2019=%{x}<br>Generosity Score=%{y}<br>Happiness Score=%{marker.size}<extra></extra>",
         "hovertext": [
          "Argentina",
          "Chile",
          "Colombia",
          "Costa Rica",
          "Dominican Republic",
          "Ecuador",
          "El Salvador",
          "Guatemala",
          "Honduras",
          "Mexico",
          "Panama",
          "Peru",
          "United States"
         ],
         "legendgroup": "Americas",
         "marker": {
          "color": "#EF553B",
          "size": [
           6.086,
           6.444,
           6.125,
           7.167000000000002,
           5.425,
           6.028,
           6.252999999999999,
           6.436,
           5.86,
           6.595,
           6.3210000000000015,
           5.697,
           6.892
          ],
          "sizemode": "area",
          "sizeref": 0.0194225,
          "symbol": "circle"
         },
         "mode": "markers",
         "name": "Americas",
         "orientation": "v",
         "showlegend": true,
         "type": "scatter",
         "x": [
          45,
          67,
          37,
          56,
          28,
          38,
          34,
          26,
          26,
          29,
          36,
          36,
          69
         ],
         "xaxis": "x",
         "y": [
          28,
          37,
          35,
          38,
          39,
          24,
          25,
          40,
          36,
          28,
          35,
          28,
          58
         ],
         "yaxis": "y"
        },
        {
         "hovertemplate": "<b>%{hovertext}</b><br><br>Region=Europe<br>CPI score 2019=%{x}<br>Generosity Score=%{y}<br>Happiness Score=%{marker.size}<extra></extra>",
         "hovertext": [
          "Austria",
          "Belgium",
          "Bulgaria",
          "Croatia",
          "Cyprus",
          "Denmark",
          "Estonia",
          "Finland",
          "France",
          "Greece",
          "Hungary",
          "Ireland",
          "Italy",
          "Latvia",
          "Lithuania",
          "Luxembourg",
          "Malta",
          "Poland",
          "Portugal",
          "Romania",
          "Slovenia",
          "Spain",
          "Sweden",
          "Switzerland"
         ],
         "legendgroup": "Europe",
         "marker": {
          "color": "#00cc96",
          "size": [
           7.246,
           6.922999999999999,
           5.011,
           5.432,
           6.046,
           7.6,
           5.893,
           7.769,
           6.5920000000000005,
           5.287000000000001,
           5.757999999999999,
           7.021,
           6.223,
           5.94,
           6.149,
           7.09,
           6.726,
           6.182,
           5.693,
           6.07,
           6.1179999999999986,
           6.354,
           7.343,
           7.48
          ],
          "sizemode": "area",
          "sizeref": 0.0194225,
          "symbol": "circle"
         },
         "mode": "markers",
         "name": "Europe",
         "orientation": "v",
         "showlegend": true,
         "type": "scatter",
         "x": [
          77,
          75,
          43,
          47,
          58,
          87,
          74,
          86,
          69,
          48,
          44,
          74,
          53,
          56,
          60,
          80,
          54,
          58,
          62,
          44,
          60,
          62,
          85,
          85
         ],
         "xaxis": "x",
         "y": [
          45,
          36,
          19,
          21,
          41,
          44,
          25,
          41,
          30,
          16,
          23,
          56,
          33,
          22,
          19,
          40,
          47,
          25,
          25,
          24,
          38,
          32,
          40,
          45
         ],
         "yaxis": "y"
        },
        {
         "hovertemplate": "<b>%{hovertext}</b><br><br>Region=Asia/Pacific<br>CPI score 2019=%{x}<br>Generosity Score=%{y}<br>Happiness Score=%{marker.size}<extra></extra>",
         "hovertext": [
          "Bangladesh",
          "Cambodia",
          "India",
          "Indonesia",
          "Malaysia",
          "Mongolia",
          "Myanmar",
          "Nepal",
          "Pakistan",
          "Philippines",
          "Singapore",
          "Sri Lanka",
          "Thailand"
         ],
         "legendgroup": "Asia/Pacific",
         "marker": {
          "color": "#ab63fa",
          "size": [
           4.456,
           4.7,
           4.015,
           5.192,
           5.339,
           5.285,
           4.36,
           4.913,
           5.653,
           5.631,
           6.2620000000000005,
           4.3660000000000005,
           6.007999999999999
          ],
          "sizemode": "area",
          "sizeref": 0.0194225,
          "symbol": "circle"
         },
         "mode": "markers",
         "name": "Asia/Pacific",
         "orientation": "v",
         "showlegend": true,
         "type": "scatter",
         "x": [
          26,
          20,
          41,
          40,
          53,
          35,
          29,
          34,
          32,
          34,
          85,
          38,
          36
         ],
         "xaxis": "x",
         "y": [
          26,
          24,
          26,
          50,
          39,
          38,
          58,
          33,
          29,
          39,
          35,
          51,
          42
         ],
         "yaxis": "y"
        },
        {
         "hovertemplate": "<b>%{hovertext}</b><br><br>Region=Sub-Saharan Africa<br>CPI score 2019=%{x}<br>Generosity Score=%{y}<br>Happiness Score=%{marker.size}<extra></extra>",
         "hovertext": [
          "Benin",
          "Botswana",
          "Burkina Faso",
          "Cameroon",
          "Chad",
          "Ethiopia",
          "Ghana",
          "Guinea",
          "Kenya",
          "Liberia",
          "Madagascar",
          "Malawi",
          "Mali",
          "Mauritania",
          "Niger",
          "Rwanda",
          "Senegal",
          "Sierra Leone",
          "South Africa",
          "Uganda",
          "Zambia",
          "Zimbabwe"
         ],
         "legendgroup": "Sub-Saharan Africa",
         "marker": {
          "color": "#FFA15A",
          "size": [
           4.883,
           3.488,
           4.587,
           5.044,
           4.35,
           4.2860000000000005,
           4.996,
           4.534,
           4.509,
           3.975,
           3.933,
           3.41,
           4.39,
           4.49,
           4.628,
           3.334,
           4.681,
           4.374,
           4.722,
           4.189,
           4.107,
           3.663
          ],
          "sizemode": "area",
          "sizeref": 0.0194225,
          "symbol": "circle"
         },
         "mode": "markers",
         "name": "Sub-Saharan Africa",
         "orientation": "v",
         "showlegend": true,
         "type": "scatter",
         "x": [
          41,
          61,
          40,
          25,
          20,
          37,
          41,
          29,
          28,
          28,
          24,
          31,
          29,
          28,
          32,
          53,
          45,
          33,
          44,
          28,
          34,
          24
         ],
         "xaxis": "x",
         "y": [
          23,
          30,
          25,
          33,
          25,
          26,
          38,
          34,
          47,
          44,
          21,
          38,
          24,
          25,
          24,
          21,
          28,
          42,
          36,
          38,
          39,
          29
         ],
         "yaxis": "y"
        },
        {
         "hovertemplate": "<b>%{hovertext}</b><br><br>Region=Middle East/North Africa<br>CPI score 2019=%{x}<br>Generosity Score=%{y}<br>Happiness Score=%{marker.size}<extra></extra>",
         "hovertext": [
          "Israel",
          "Jordan",
          "Morocco",
          "Saudi Arabia",
          "Tunisia",
          "United Arab Emirates"
         ],
         "legendgroup": "Middle East/North Africa",
         "marker": {
          "color": "#19d3f3",
          "size": [
           7.1389999999999985,
           4.9060000000000015,
           5.207999999999998,
           6.375,
           4.461,
           6.825
          ],
          "sizemode": "area",
          "sizeref": 0.0194225,
          "symbol": "circle"
         },
         "mode": "markers",
         "name": "Middle East/North Africa",
         "orientation": "v",
         "showlegend": true,
         "type": "scatter",
         "x": [
          60,
          48,
          41,
          53,
          43,
          71
         ],
         "xaxis": "x",
         "y": [
          39,
          25,
          26,
          34,
          24,
          45
         ],
         "yaxis": "y"
        }
       ],
       "layout": {
        "font": {
         "color": "midnightblue",
         "family": "Courier New"
        },
        "legend": {
         "itemsizing": "constant",
         "title": {
          "font": {
           "color": "dimgrey"
          },
          "text": "Region"
         },
         "tracegroupgap": 0
        },
        "template": {
         "data": {
          "bar": [
           {
            "error_x": {
             "color": "#2a3f5f"
            },
            "error_y": {
             "color": "#2a3f5f"
            },
            "marker": {
             "line": {
              "color": "#E5ECF6",
              "width": 0.5
             }
            },
            "type": "bar"
           }
          ],
          "barpolar": [
           {
            "marker": {
             "line": {
              "color": "#E5ECF6",
              "width": 0.5
             }
            },
            "type": "barpolar"
           }
          ],
          "carpet": [
           {
            "aaxis": {
             "endlinecolor": "#2a3f5f",
             "gridcolor": "white",
             "linecolor": "white",
             "minorgridcolor": "white",
             "startlinecolor": "#2a3f5f"
            },
            "baxis": {
             "endlinecolor": "#2a3f5f",
             "gridcolor": "white",
             "linecolor": "white",
             "minorgridcolor": "white",
             "startlinecolor": "#2a3f5f"
            },
            "type": "carpet"
           }
          ],
          "choropleth": [
           {
            "colorbar": {
             "outlinewidth": 0,
             "ticks": ""
            },
            "type": "choropleth"
           }
          ],
          "contour": [
           {
            "colorbar": {
             "outlinewidth": 0,
             "ticks": ""
            },
            "colorscale": [
             [
              0,
              "#0d0887"
             ],
             [
              0.1111111111111111,
              "#46039f"
             ],
             [
              0.2222222222222222,
              "#7201a8"
             ],
             [
              0.3333333333333333,
              "#9c179e"
             ],
             [
              0.4444444444444444,
              "#bd3786"
             ],
             [
              0.5555555555555556,
              "#d8576b"
             ],
             [
              0.6666666666666666,
              "#ed7953"
             ],
             [
              0.7777777777777778,
              "#fb9f3a"
             ],
             [
              0.8888888888888888,
              "#fdca26"
             ],
             [
              1,
              "#f0f921"
             ]
            ],
            "type": "contour"
           }
          ],
          "contourcarpet": [
           {
            "colorbar": {
             "outlinewidth": 0,
             "ticks": ""
            },
            "type": "contourcarpet"
           }
          ],
          "heatmap": [
           {
            "colorbar": {
             "outlinewidth": 0,
             "ticks": ""
            },
            "colorscale": [
             [
              0,
              "#0d0887"
             ],
             [
              0.1111111111111111,
              "#46039f"
             ],
             [
              0.2222222222222222,
              "#7201a8"
             ],
             [
              0.3333333333333333,
              "#9c179e"
             ],
             [
              0.4444444444444444,
              "#bd3786"
             ],
             [
              0.5555555555555556,
              "#d8576b"
             ],
             [
              0.6666666666666666,
              "#ed7953"
             ],
             [
              0.7777777777777778,
              "#fb9f3a"
             ],
             [
              0.8888888888888888,
              "#fdca26"
             ],
             [
              1,
              "#f0f921"
             ]
            ],
            "type": "heatmap"
           }
          ],
          "heatmapgl": [
           {
            "colorbar": {
             "outlinewidth": 0,
             "ticks": ""
            },
            "colorscale": [
             [
              0,
              "#0d0887"
             ],
             [
              0.1111111111111111,
              "#46039f"
             ],
             [
              0.2222222222222222,
              "#7201a8"
             ],
             [
              0.3333333333333333,
              "#9c179e"
             ],
             [
              0.4444444444444444,
              "#bd3786"
             ],
             [
              0.5555555555555556,
              "#d8576b"
             ],
             [
              0.6666666666666666,
              "#ed7953"
             ],
             [
              0.7777777777777778,
              "#fb9f3a"
             ],
             [
              0.8888888888888888,
              "#fdca26"
             ],
             [
              1,
              "#f0f921"
             ]
            ],
            "type": "heatmapgl"
           }
          ],
          "histogram": [
           {
            "marker": {
             "colorbar": {
              "outlinewidth": 0,
              "ticks": ""
             }
            },
            "type": "histogram"
           }
          ],
          "histogram2d": [
           {
            "colorbar": {
             "outlinewidth": 0,
             "ticks": ""
            },
            "colorscale": [
             [
              0,
              "#0d0887"
             ],
             [
              0.1111111111111111,
              "#46039f"
             ],
             [
              0.2222222222222222,
              "#7201a8"
             ],
             [
              0.3333333333333333,
              "#9c179e"
             ],
             [
              0.4444444444444444,
              "#bd3786"
             ],
             [
              0.5555555555555556,
              "#d8576b"
             ],
             [
              0.6666666666666666,
              "#ed7953"
             ],
             [
              0.7777777777777778,
              "#fb9f3a"
             ],
             [
              0.8888888888888888,
              "#fdca26"
             ],
             [
              1,
              "#f0f921"
             ]
            ],
            "type": "histogram2d"
           }
          ],
          "histogram2dcontour": [
           {
            "colorbar": {
             "outlinewidth": 0,
             "ticks": ""
            },
            "colorscale": [
             [
              0,
              "#0d0887"
             ],
             [
              0.1111111111111111,
              "#46039f"
             ],
             [
              0.2222222222222222,
              "#7201a8"
             ],
             [
              0.3333333333333333,
              "#9c179e"
             ],
             [
              0.4444444444444444,
              "#bd3786"
             ],
             [
              0.5555555555555556,
              "#d8576b"
             ],
             [
              0.6666666666666666,
              "#ed7953"
             ],
             [
              0.7777777777777778,
              "#fb9f3a"
             ],
             [
              0.8888888888888888,
              "#fdca26"
             ],
             [
              1,
              "#f0f921"
             ]
            ],
            "type": "histogram2dcontour"
           }
          ],
          "mesh3d": [
           {
            "colorbar": {
             "outlinewidth": 0,
             "ticks": ""
            },
            "type": "mesh3d"
           }
          ],
          "parcoords": [
           {
            "line": {
             "colorbar": {
              "outlinewidth": 0,
              "ticks": ""
             }
            },
            "type": "parcoords"
           }
          ],
          "pie": [
           {
            "automargin": true,
            "type": "pie"
           }
          ],
          "scatter": [
           {
            "marker": {
             "colorbar": {
              "outlinewidth": 0,
              "ticks": ""
             }
            },
            "type": "scatter"
           }
          ],
          "scatter3d": [
           {
            "line": {
             "colorbar": {
              "outlinewidth": 0,
              "ticks": ""
             }
            },
            "marker": {
             "colorbar": {
              "outlinewidth": 0,
              "ticks": ""
             }
            },
            "type": "scatter3d"
           }
          ],
          "scattercarpet": [
           {
            "marker": {
             "colorbar": {
              "outlinewidth": 0,
              "ticks": ""
             }
            },
            "type": "scattercarpet"
           }
          ],
          "scattergeo": [
           {
            "marker": {
             "colorbar": {
              "outlinewidth": 0,
              "ticks": ""
             }
            },
            "type": "scattergeo"
           }
          ],
          "scattergl": [
           {
            "marker": {
             "colorbar": {
              "outlinewidth": 0,
              "ticks": ""
             }
            },
            "type": "scattergl"
           }
          ],
          "scattermapbox": [
           {
            "marker": {
             "colorbar": {
              "outlinewidth": 0,
              "ticks": ""
             }
            },
            "type": "scattermapbox"
           }
          ],
          "scatterpolar": [
           {
            "marker": {
             "colorbar": {
              "outlinewidth": 0,
              "ticks": ""
             }
            },
            "type": "scatterpolar"
           }
          ],
          "scatterpolargl": [
           {
            "marker": {
             "colorbar": {
              "outlinewidth": 0,
              "ticks": ""
             }
            },
            "type": "scatterpolargl"
           }
          ],
          "scatterternary": [
           {
            "marker": {
             "colorbar": {
              "outlinewidth": 0,
              "ticks": ""
             }
            },
            "type": "scatterternary"
           }
          ],
          "surface": [
           {
            "colorbar": {
             "outlinewidth": 0,
             "ticks": ""
            },
            "colorscale": [
             [
              0,
              "#0d0887"
             ],
             [
              0.1111111111111111,
              "#46039f"
             ],
             [
              0.2222222222222222,
              "#7201a8"
             ],
             [
              0.3333333333333333,
              "#9c179e"
             ],
             [
              0.4444444444444444,
              "#bd3786"
             ],
             [
              0.5555555555555556,
              "#d8576b"
             ],
             [
              0.6666666666666666,
              "#ed7953"
             ],
             [
              0.7777777777777778,
              "#fb9f3a"
             ],
             [
              0.8888888888888888,
              "#fdca26"
             ],
             [
              1,
              "#f0f921"
             ]
            ],
            "type": "surface"
           }
          ],
          "table": [
           {
            "cells": {
             "fill": {
              "color": "#EBF0F8"
             },
             "line": {
              "color": "white"
             }
            },
            "header": {
             "fill": {
              "color": "#C8D4E3"
             },
             "line": {
              "color": "white"
             }
            },
            "type": "table"
           }
          ]
         },
         "layout": {
          "annotationdefaults": {
           "arrowcolor": "#2a3f5f",
           "arrowhead": 0,
           "arrowwidth": 1
          },
          "autotypenumbers": "strict",
          "coloraxis": {
           "colorbar": {
            "outlinewidth": 0,
            "ticks": ""
           }
          },
          "colorscale": {
           "diverging": [
            [
             0,
             "#8e0152"
            ],
            [
             0.1,
             "#c51b7d"
            ],
            [
             0.2,
             "#de77ae"
            ],
            [
             0.3,
             "#f1b6da"
            ],
            [
             0.4,
             "#fde0ef"
            ],
            [
             0.5,
             "#f7f7f7"
            ],
            [
             0.6,
             "#e6f5d0"
            ],
            [
             0.7,
             "#b8e186"
            ],
            [
             0.8,
             "#7fbc41"
            ],
            [
             0.9,
             "#4d9221"
            ],
            [
             1,
             "#276419"
            ]
           ],
           "sequential": [
            [
             0,
             "#0d0887"
            ],
            [
             0.1111111111111111,
             "#46039f"
            ],
            [
             0.2222222222222222,
             "#7201a8"
            ],
            [
             0.3333333333333333,
             "#9c179e"
            ],
            [
             0.4444444444444444,
             "#bd3786"
            ],
            [
             0.5555555555555556,
             "#d8576b"
            ],
            [
             0.6666666666666666,
             "#ed7953"
            ],
            [
             0.7777777777777778,
             "#fb9f3a"
            ],
            [
             0.8888888888888888,
             "#fdca26"
            ],
            [
             1,
             "#f0f921"
            ]
           ],
           "sequentialminus": [
            [
             0,
             "#0d0887"
            ],
            [
             0.1111111111111111,
             "#46039f"
            ],
            [
             0.2222222222222222,
             "#7201a8"
            ],
            [
             0.3333333333333333,
             "#9c179e"
            ],
            [
             0.4444444444444444,
             "#bd3786"
            ],
            [
             0.5555555555555556,
             "#d8576b"
            ],
            [
             0.6666666666666666,
             "#ed7953"
            ],
            [
             0.7777777777777778,
             "#fb9f3a"
            ],
            [
             0.8888888888888888,
             "#fdca26"
            ],
            [
             1,
             "#f0f921"
            ]
           ]
          },
          "colorway": [
           "#636efa",
           "#EF553B",
           "#00cc96",
           "#ab63fa",
           "#FFA15A",
           "#19d3f3",
           "#FF6692",
           "#B6E880",
           "#FF97FF",
           "#FECB52"
          ],
          "font": {
           "color": "#2a3f5f"
          },
          "geo": {
           "bgcolor": "white",
           "lakecolor": "white",
           "landcolor": "#E5ECF6",
           "showlakes": true,
           "showland": true,
           "subunitcolor": "white"
          },
          "hoverlabel": {
           "align": "left"
          },
          "hovermode": "closest",
          "mapbox": {
           "style": "light"
          },
          "paper_bgcolor": "white",
          "plot_bgcolor": "#E5ECF6",
          "polar": {
           "angularaxis": {
            "gridcolor": "white",
            "linecolor": "white",
            "ticks": ""
           },
           "bgcolor": "#E5ECF6",
           "radialaxis": {
            "gridcolor": "white",
            "linecolor": "white",
            "ticks": ""
           }
          },
          "scene": {
           "xaxis": {
            "backgroundcolor": "#E5ECF6",
            "gridcolor": "white",
            "gridwidth": 2,
            "linecolor": "white",
            "showbackground": true,
            "ticks": "",
            "zerolinecolor": "white"
           },
           "yaxis": {
            "backgroundcolor": "#E5ECF6",
            "gridcolor": "white",
            "gridwidth": 2,
            "linecolor": "white",
            "showbackground": true,
            "ticks": "",
            "zerolinecolor": "white"
           },
           "zaxis": {
            "backgroundcolor": "#E5ECF6",
            "gridcolor": "white",
            "gridwidth": 2,
            "linecolor": "white",
            "showbackground": true,
            "ticks": "",
            "zerolinecolor": "white"
           }
          },
          "shapedefaults": {
           "line": {
            "color": "#2a3f5f"
           }
          },
          "ternary": {
           "aaxis": {
            "gridcolor": "white",
            "linecolor": "white",
            "ticks": ""
           },
           "baxis": {
            "gridcolor": "white",
            "linecolor": "white",
            "ticks": ""
           },
           "bgcolor": "#E5ECF6",
           "caxis": {
            "gridcolor": "white",
            "linecolor": "white",
            "ticks": ""
           }
          },
          "title": {
           "x": 0.05
          },
          "xaxis": {
           "automargin": true,
           "gridcolor": "white",
           "linecolor": "white",
           "ticks": "",
           "title": {
            "standoff": 15
           },
           "zerolinecolor": "white",
           "zerolinewidth": 2
          },
          "yaxis": {
           "automargin": true,
           "gridcolor": "white",
           "linecolor": "white",
           "ticks": "",
           "title": {
            "standoff": 15
           },
           "zerolinecolor": "white",
           "zerolinewidth": 2
          }
         }
        },
        "title": {
         "font": {
          "color": "dimgrey",
          "family": "Times New Roman"
         },
         "text": "CPI, Generosity, and Happiness"
        },
        "xaxis": {
         "anchor": "y",
         "domain": [
          0,
          1
         ],
         "title": {
          "text": "CPI score 2019"
         }
        },
        "yaxis": {
         "anchor": "x",
         "domain": [
          0,
          1
         ],
         "title": {
          "text": "Generosity Score"
         }
        }
       }
      },
      "text/html": [
       "<div>                            <div id=\"b0fa73f8-ea46-4638-809c-1aead27b99da\" class=\"plotly-graph-div\" style=\"height:525px; width:100%;\"></div>            <script type=\"text/javascript\">                require([\"plotly\"], function(Plotly) {                    window.PLOTLYENV=window.PLOTLYENV || {};                                    if (document.getElementById(\"b0fa73f8-ea46-4638-809c-1aead27b99da\")) {                    Plotly.newPlot(                        \"b0fa73f8-ea46-4638-809c-1aead27b99da\",                        [{\"hovertemplate\": \"<b>%{hovertext}</b><br><br>Region=Europe Central Asia<br>CPI score 2019=%{x}<br>Generosity Score=%{y}<br>Happiness Score=%{marker.size}<extra></extra>\", \"hovertext\": [\"Albania\", \"Armenia\", \"Azerbaijan\", \"Belarus\", \"Georgia\", \"Kazakhstan\", \"Montenegro\", \"Serbia\", \"Tajikistan\", \"Ukraine\"], \"legendgroup\": \"Europe Central Asia\", \"marker\": {\"color\": \"#636efa\", \"size\": [4.7189999999999985, 4.559, 5.207999999999998, 5.323, 4.519, 5.809, 5.523, 5.603, 5.4670000000000005, 4.332], \"sizemode\": \"area\", \"sizeref\": 0.0194225, \"symbol\": \"circle\"}, \"mode\": \"markers\", \"name\": \"Europe Central Asia\", \"orientation\": \"v\", \"showlegend\": true, \"type\": \"scatter\", \"x\": [35.0, 42.0, 30.0, 45.0, 56.0, 34.0, 45.0, 39.0, 25.0, 30.0], \"xaxis\": \"x\", \"y\": [23.0, 21.0, 24.0, 25.0, 21.0, 26.0, 20.0, 19.0, 36.0, 24.0], \"yaxis\": \"y\"}, {\"hovertemplate\": \"<b>%{hovertext}</b><br><br>Region=Americas<br>CPI score 2019=%{x}<br>Generosity Score=%{y}<br>Happiness Score=%{marker.size}<extra></extra>\", \"hovertext\": [\"Argentina\", \"Chile\", \"Colombia\", \"Costa Rica\", \"Dominican Republic\", \"Ecuador\", \"El Salvador\", \"Guatemala\", \"Honduras\", \"Mexico\", \"Panama\", \"Peru\", \"United States\"], \"legendgroup\": \"Americas\", \"marker\": {\"color\": \"#EF553B\", \"size\": [6.086, 6.444, 6.125, 7.167000000000002, 5.425, 6.028, 6.252999999999999, 6.436, 5.86, 6.595, 6.3210000000000015, 5.697, 6.892], \"sizemode\": \"area\", \"sizeref\": 0.0194225, \"symbol\": \"circle\"}, \"mode\": \"markers\", \"name\": \"Americas\", \"orientation\": \"v\", \"showlegend\": true, \"type\": \"scatter\", \"x\": [45.0, 67.0, 37.0, 56.0, 28.0, 38.0, 34.0, 26.0, 26.0, 29.0, 36.0, 36.0, 69.0], \"xaxis\": \"x\", \"y\": [28.0, 37.0, 35.0, 38.0, 39.0, 24.0, 25.0, 40.0, 36.0, 28.0, 35.0, 28.0, 58.0], \"yaxis\": \"y\"}, {\"hovertemplate\": \"<b>%{hovertext}</b><br><br>Region=Europe<br>CPI score 2019=%{x}<br>Generosity Score=%{y}<br>Happiness Score=%{marker.size}<extra></extra>\", \"hovertext\": [\"Austria\", \"Belgium\", \"Bulgaria\", \"Croatia\", \"Cyprus\", \"Denmark\", \"Estonia\", \"Finland\", \"France\", \"Greece\", \"Hungary\", \"Ireland\", \"Italy\", \"Latvia\", \"Lithuania\", \"Luxembourg\", \"Malta\", \"Poland\", \"Portugal\", \"Romania\", \"Slovenia\", \"Spain\", \"Sweden\", \"Switzerland\"], \"legendgroup\": \"Europe\", \"marker\": {\"color\": \"#00cc96\", \"size\": [7.246, 6.922999999999999, 5.011, 5.432, 6.046, 7.6, 5.893, 7.769, 6.5920000000000005, 5.287000000000001, 5.757999999999999, 7.021, 6.223, 5.94, 6.149, 7.09, 6.726, 6.182, 5.693, 6.07, 6.1179999999999986, 6.354, 7.343, 7.48], \"sizemode\": \"area\", \"sizeref\": 0.0194225, \"symbol\": \"circle\"}, \"mode\": \"markers\", \"name\": \"Europe\", \"orientation\": \"v\", \"showlegend\": true, \"type\": \"scatter\", \"x\": [77.0, 75.0, 43.0, 47.0, 58.0, 87.0, 74.0, 86.0, 69.0, 48.0, 44.0, 74.0, 53.0, 56.0, 60.0, 80.0, 54.0, 58.0, 62.0, 44.0, 60.0, 62.0, 85.0, 85.0], \"xaxis\": \"x\", \"y\": [45.0, 36.0, 19.0, 21.0, 41.0, 44.0, 25.0, 41.0, 30.0, 16.0, 23.0, 56.0, 33.0, 22.0, 19.0, 40.0, 47.0, 25.0, 25.0, 24.0, 38.0, 32.0, 40.0, 45.0], \"yaxis\": \"y\"}, {\"hovertemplate\": \"<b>%{hovertext}</b><br><br>Region=Asia/Pacific<br>CPI score 2019=%{x}<br>Generosity Score=%{y}<br>Happiness Score=%{marker.size}<extra></extra>\", \"hovertext\": [\"Bangladesh\", \"Cambodia\", \"India\", \"Indonesia\", \"Malaysia\", \"Mongolia\", \"Myanmar\", \"Nepal\", \"Pakistan\", \"Philippines\", \"Singapore\", \"Sri Lanka\", \"Thailand\"], \"legendgroup\": \"Asia/Pacific\", \"marker\": {\"color\": \"#ab63fa\", \"size\": [4.456, 4.7, 4.015, 5.192, 5.339, 5.285, 4.36, 4.913, 5.653, 5.631, 6.2620000000000005, 4.3660000000000005, 6.007999999999999], \"sizemode\": \"area\", \"sizeref\": 0.0194225, \"symbol\": \"circle\"}, \"mode\": \"markers\", \"name\": \"Asia/Pacific\", \"orientation\": \"v\", \"showlegend\": true, \"type\": \"scatter\", \"x\": [26.0, 20.0, 41.0, 40.0, 53.0, 35.0, 29.0, 34.0, 32.0, 34.0, 85.0, 38.0, 36.0], \"xaxis\": \"x\", \"y\": [26.0, 24.0, 26.0, 50.0, 39.0, 38.0, 58.0, 33.0, 29.0, 39.0, 35.0, 51.0, 42.0], \"yaxis\": \"y\"}, {\"hovertemplate\": \"<b>%{hovertext}</b><br><br>Region=Sub-Saharan Africa<br>CPI score 2019=%{x}<br>Generosity Score=%{y}<br>Happiness Score=%{marker.size}<extra></extra>\", \"hovertext\": [\"Benin\", \"Botswana\", \"Burkina Faso\", \"Cameroon\", \"Chad\", \"Ethiopia\", \"Ghana\", \"Guinea\", \"Kenya\", \"Liberia\", \"Madagascar\", \"Malawi\", \"Mali\", \"Mauritania\", \"Niger\", \"Rwanda\", \"Senegal\", \"Sierra Leone\", \"South Africa\", \"Uganda\", \"Zambia\", \"Zimbabwe\"], \"legendgroup\": \"Sub-Saharan Africa\", \"marker\": {\"color\": \"#FFA15A\", \"size\": [4.883, 3.488, 4.587, 5.044, 4.35, 4.2860000000000005, 4.996, 4.534, 4.509, 3.975, 3.933, 3.41, 4.39, 4.49, 4.628, 3.334, 4.681, 4.374, 4.722, 4.189, 4.107, 3.663], \"sizemode\": \"area\", \"sizeref\": 0.0194225, \"symbol\": \"circle\"}, \"mode\": \"markers\", \"name\": \"Sub-Saharan Africa\", \"orientation\": \"v\", \"showlegend\": true, \"type\": \"scatter\", \"x\": [41.0, 61.0, 40.0, 25.0, 20.0, 37.0, 41.0, 29.0, 28.0, 28.0, 24.0, 31.0, 29.0, 28.0, 32.0, 53.0, 45.0, 33.0, 44.0, 28.0, 34.0, 24.0], \"xaxis\": \"x\", \"y\": [23.0, 30.0, 25.0, 33.0, 25.0, 26.0, 38.0, 34.0, 47.0, 44.0, 21.0, 38.0, 24.0, 25.0, 24.0, 21.0, 28.0, 42.0, 36.0, 38.0, 39.0, 29.0], \"yaxis\": \"y\"}, {\"hovertemplate\": \"<b>%{hovertext}</b><br><br>Region=Middle East/North Africa<br>CPI score 2019=%{x}<br>Generosity Score=%{y}<br>Happiness Score=%{marker.size}<extra></extra>\", \"hovertext\": [\"Israel\", \"Jordan\", \"Morocco\", \"Saudi Arabia\", \"Tunisia\", \"United Arab Emirates\"], \"legendgroup\": \"Middle East/North Africa\", \"marker\": {\"color\": \"#19d3f3\", \"size\": [7.1389999999999985, 4.9060000000000015, 5.207999999999998, 6.375, 4.461, 6.825], \"sizemode\": \"area\", \"sizeref\": 0.0194225, \"symbol\": \"circle\"}, \"mode\": \"markers\", \"name\": \"Middle East/North Africa\", \"orientation\": \"v\", \"showlegend\": true, \"type\": \"scatter\", \"x\": [60.0, 48.0, 41.0, 53.0, 43.0, 71.0], \"xaxis\": \"x\", \"y\": [39.0, 25.0, 26.0, 34.0, 24.0, 45.0], \"yaxis\": \"y\"}],                        {\"font\": {\"color\": \"midnightblue\", \"family\": \"Courier New\"}, \"legend\": {\"itemsizing\": \"constant\", \"title\": {\"font\": {\"color\": \"dimgrey\"}, \"text\": \"Region\"}, \"tracegroupgap\": 0}, \"template\": {\"data\": {\"bar\": [{\"error_x\": {\"color\": \"#2a3f5f\"}, \"error_y\": {\"color\": \"#2a3f5f\"}, \"marker\": {\"line\": {\"color\": \"#E5ECF6\", \"width\": 0.5}}, \"type\": \"bar\"}], \"barpolar\": [{\"marker\": {\"line\": {\"color\": \"#E5ECF6\", \"width\": 0.5}}, \"type\": \"barpolar\"}], \"carpet\": [{\"aaxis\": {\"endlinecolor\": \"#2a3f5f\", \"gridcolor\": \"white\", \"linecolor\": \"white\", \"minorgridcolor\": \"white\", \"startlinecolor\": \"#2a3f5f\"}, \"baxis\": {\"endlinecolor\": \"#2a3f5f\", \"gridcolor\": \"white\", \"linecolor\": \"white\", \"minorgridcolor\": \"white\", \"startlinecolor\": \"#2a3f5f\"}, \"type\": \"carpet\"}], \"choropleth\": [{\"colorbar\": {\"outlinewidth\": 0, \"ticks\": \"\"}, \"type\": \"choropleth\"}], \"contour\": [{\"colorbar\": {\"outlinewidth\": 0, \"ticks\": \"\"}, \"colorscale\": [[0.0, \"#0d0887\"], [0.1111111111111111, \"#46039f\"], [0.2222222222222222, \"#7201a8\"], [0.3333333333333333, \"#9c179e\"], [0.4444444444444444, \"#bd3786\"], [0.5555555555555556, \"#d8576b\"], [0.6666666666666666, \"#ed7953\"], [0.7777777777777778, \"#fb9f3a\"], [0.8888888888888888, \"#fdca26\"], [1.0, \"#f0f921\"]], \"type\": \"contour\"}], \"contourcarpet\": [{\"colorbar\": {\"outlinewidth\": 0, \"ticks\": \"\"}, \"type\": \"contourcarpet\"}], \"heatmap\": [{\"colorbar\": {\"outlinewidth\": 0, \"ticks\": \"\"}, \"colorscale\": [[0.0, \"#0d0887\"], [0.1111111111111111, \"#46039f\"], [0.2222222222222222, \"#7201a8\"], [0.3333333333333333, \"#9c179e\"], [0.4444444444444444, \"#bd3786\"], [0.5555555555555556, \"#d8576b\"], [0.6666666666666666, \"#ed7953\"], [0.7777777777777778, \"#fb9f3a\"], [0.8888888888888888, \"#fdca26\"], [1.0, \"#f0f921\"]], \"type\": \"heatmap\"}], \"heatmapgl\": [{\"colorbar\": {\"outlinewidth\": 0, \"ticks\": \"\"}, \"colorscale\": [[0.0, \"#0d0887\"], [0.1111111111111111, \"#46039f\"], [0.2222222222222222, \"#7201a8\"], [0.3333333333333333, \"#9c179e\"], [0.4444444444444444, \"#bd3786\"], [0.5555555555555556, \"#d8576b\"], [0.6666666666666666, \"#ed7953\"], [0.7777777777777778, \"#fb9f3a\"], [0.8888888888888888, \"#fdca26\"], [1.0, \"#f0f921\"]], \"type\": \"heatmapgl\"}], \"histogram\": [{\"marker\": {\"colorbar\": {\"outlinewidth\": 0, \"ticks\": \"\"}}, \"type\": \"histogram\"}], \"histogram2d\": [{\"colorbar\": {\"outlinewidth\": 0, \"ticks\": \"\"}, \"colorscale\": [[0.0, \"#0d0887\"], [0.1111111111111111, \"#46039f\"], [0.2222222222222222, \"#7201a8\"], [0.3333333333333333, \"#9c179e\"], [0.4444444444444444, \"#bd3786\"], [0.5555555555555556, \"#d8576b\"], [0.6666666666666666, \"#ed7953\"], [0.7777777777777778, \"#fb9f3a\"], [0.8888888888888888, \"#fdca26\"], [1.0, \"#f0f921\"]], \"type\": \"histogram2d\"}], \"histogram2dcontour\": [{\"colorbar\": {\"outlinewidth\": 0, \"ticks\": \"\"}, \"colorscale\": [[0.0, \"#0d0887\"], [0.1111111111111111, \"#46039f\"], [0.2222222222222222, \"#7201a8\"], [0.3333333333333333, \"#9c179e\"], [0.4444444444444444, \"#bd3786\"], [0.5555555555555556, \"#d8576b\"], [0.6666666666666666, \"#ed7953\"], [0.7777777777777778, \"#fb9f3a\"], [0.8888888888888888, \"#fdca26\"], [1.0, \"#f0f921\"]], \"type\": \"histogram2dcontour\"}], \"mesh3d\": [{\"colorbar\": {\"outlinewidth\": 0, \"ticks\": \"\"}, \"type\": \"mesh3d\"}], \"parcoords\": [{\"line\": {\"colorbar\": {\"outlinewidth\": 0, \"ticks\": \"\"}}, \"type\": \"parcoords\"}], \"pie\": [{\"automargin\": true, \"type\": \"pie\"}], \"scatter\": [{\"marker\": {\"colorbar\": {\"outlinewidth\": 0, \"ticks\": \"\"}}, \"type\": \"scatter\"}], \"scatter3d\": [{\"line\": {\"colorbar\": {\"outlinewidth\": 0, \"ticks\": \"\"}}, \"marker\": {\"colorbar\": {\"outlinewidth\": 0, \"ticks\": \"\"}}, \"type\": \"scatter3d\"}], \"scattercarpet\": [{\"marker\": {\"colorbar\": {\"outlinewidth\": 0, \"ticks\": \"\"}}, \"type\": \"scattercarpet\"}], \"scattergeo\": [{\"marker\": {\"colorbar\": {\"outlinewidth\": 0, \"ticks\": \"\"}}, \"type\": \"scattergeo\"}], \"scattergl\": [{\"marker\": {\"colorbar\": {\"outlinewidth\": 0, \"ticks\": \"\"}}, \"type\": \"scattergl\"}], \"scattermapbox\": [{\"marker\": {\"colorbar\": {\"outlinewidth\": 0, \"ticks\": \"\"}}, \"type\": \"scattermapbox\"}], \"scatterpolar\": [{\"marker\": {\"colorbar\": {\"outlinewidth\": 0, \"ticks\": \"\"}}, \"type\": \"scatterpolar\"}], \"scatterpolargl\": [{\"marker\": {\"colorbar\": {\"outlinewidth\": 0, \"ticks\": \"\"}}, \"type\": \"scatterpolargl\"}], \"scatterternary\": [{\"marker\": {\"colorbar\": {\"outlinewidth\": 0, \"ticks\": \"\"}}, \"type\": \"scatterternary\"}], \"surface\": [{\"colorbar\": {\"outlinewidth\": 0, \"ticks\": \"\"}, \"colorscale\": [[0.0, \"#0d0887\"], [0.1111111111111111, \"#46039f\"], [0.2222222222222222, \"#7201a8\"], [0.3333333333333333, \"#9c179e\"], [0.4444444444444444, \"#bd3786\"], [0.5555555555555556, \"#d8576b\"], [0.6666666666666666, \"#ed7953\"], [0.7777777777777778, \"#fb9f3a\"], [0.8888888888888888, \"#fdca26\"], [1.0, \"#f0f921\"]], \"type\": \"surface\"}], \"table\": [{\"cells\": {\"fill\": {\"color\": \"#EBF0F8\"}, \"line\": {\"color\": \"white\"}}, \"header\": {\"fill\": {\"color\": \"#C8D4E3\"}, \"line\": {\"color\": \"white\"}}, \"type\": \"table\"}]}, \"layout\": {\"annotationdefaults\": {\"arrowcolor\": \"#2a3f5f\", \"arrowhead\": 0, \"arrowwidth\": 1}, \"autotypenumbers\": \"strict\", \"coloraxis\": {\"colorbar\": {\"outlinewidth\": 0, \"ticks\": \"\"}}, \"colorscale\": {\"diverging\": [[0, \"#8e0152\"], [0.1, \"#c51b7d\"], [0.2, \"#de77ae\"], [0.3, \"#f1b6da\"], [0.4, \"#fde0ef\"], [0.5, \"#f7f7f7\"], [0.6, \"#e6f5d0\"], [0.7, \"#b8e186\"], [0.8, \"#7fbc41\"], [0.9, \"#4d9221\"], [1, \"#276419\"]], \"sequential\": [[0.0, \"#0d0887\"], [0.1111111111111111, \"#46039f\"], [0.2222222222222222, \"#7201a8\"], [0.3333333333333333, \"#9c179e\"], [0.4444444444444444, \"#bd3786\"], [0.5555555555555556, \"#d8576b\"], [0.6666666666666666, \"#ed7953\"], [0.7777777777777778, \"#fb9f3a\"], [0.8888888888888888, \"#fdca26\"], [1.0, \"#f0f921\"]], \"sequentialminus\": [[0.0, \"#0d0887\"], [0.1111111111111111, \"#46039f\"], [0.2222222222222222, \"#7201a8\"], [0.3333333333333333, \"#9c179e\"], [0.4444444444444444, \"#bd3786\"], [0.5555555555555556, \"#d8576b\"], [0.6666666666666666, \"#ed7953\"], [0.7777777777777778, \"#fb9f3a\"], [0.8888888888888888, \"#fdca26\"], [1.0, \"#f0f921\"]]}, \"colorway\": [\"#636efa\", \"#EF553B\", \"#00cc96\", \"#ab63fa\", \"#FFA15A\", \"#19d3f3\", \"#FF6692\", \"#B6E880\", \"#FF97FF\", \"#FECB52\"], \"font\": {\"color\": \"#2a3f5f\"}, \"geo\": {\"bgcolor\": \"white\", \"lakecolor\": \"white\", \"landcolor\": \"#E5ECF6\", \"showlakes\": true, \"showland\": true, \"subunitcolor\": \"white\"}, \"hoverlabel\": {\"align\": \"left\"}, \"hovermode\": \"closest\", \"mapbox\": {\"style\": \"light\"}, \"paper_bgcolor\": \"white\", \"plot_bgcolor\": \"#E5ECF6\", \"polar\": {\"angularaxis\": {\"gridcolor\": \"white\", \"linecolor\": \"white\", \"ticks\": \"\"}, \"bgcolor\": \"#E5ECF6\", \"radialaxis\": {\"gridcolor\": \"white\", \"linecolor\": \"white\", \"ticks\": \"\"}}, \"scene\": {\"xaxis\": {\"backgroundcolor\": \"#E5ECF6\", \"gridcolor\": \"white\", \"gridwidth\": 2, \"linecolor\": \"white\", \"showbackground\": true, \"ticks\": \"\", \"zerolinecolor\": \"white\"}, \"yaxis\": {\"backgroundcolor\": \"#E5ECF6\", \"gridcolor\": \"white\", \"gridwidth\": 2, \"linecolor\": \"white\", \"showbackground\": true, \"ticks\": \"\", \"zerolinecolor\": \"white\"}, \"zaxis\": {\"backgroundcolor\": \"#E5ECF6\", \"gridcolor\": \"white\", \"gridwidth\": 2, \"linecolor\": \"white\", \"showbackground\": true, \"ticks\": \"\", \"zerolinecolor\": \"white\"}}, \"shapedefaults\": {\"line\": {\"color\": \"#2a3f5f\"}}, \"ternary\": {\"aaxis\": {\"gridcolor\": \"white\", \"linecolor\": \"white\", \"ticks\": \"\"}, \"baxis\": {\"gridcolor\": \"white\", \"linecolor\": \"white\", \"ticks\": \"\"}, \"bgcolor\": \"#E5ECF6\", \"caxis\": {\"gridcolor\": \"white\", \"linecolor\": \"white\", \"ticks\": \"\"}}, \"title\": {\"x\": 0.05}, \"xaxis\": {\"automargin\": true, \"gridcolor\": \"white\", \"linecolor\": \"white\", \"ticks\": \"\", \"title\": {\"standoff\": 15}, \"zerolinecolor\": \"white\", \"zerolinewidth\": 2}, \"yaxis\": {\"automargin\": true, \"gridcolor\": \"white\", \"linecolor\": \"white\", \"ticks\": \"\", \"title\": {\"standoff\": 15}, \"zerolinecolor\": \"white\", \"zerolinewidth\": 2}}}, \"title\": {\"font\": {\"color\": \"dimgrey\", \"family\": \"Times New Roman\"}, \"text\": \"CPI, Generosity, and Happiness\"}, \"xaxis\": {\"anchor\": \"y\", \"domain\": [0.0, 1.0], \"title\": {\"text\": \"CPI score 2019\"}}, \"yaxis\": {\"anchor\": \"x\", \"domain\": [0.0, 1.0], \"title\": {\"text\": \"Generosity Score\"}}},                        {\"responsive\": true}                    ).then(function(){\n",
       "                            \n",
       "var gd = document.getElementById('b0fa73f8-ea46-4638-809c-1aead27b99da');\n",
       "var x = new MutationObserver(function (mutations, observer) {{\n",
       "        var display = window.getComputedStyle(gd).display;\n",
       "        if (!display || display === 'none') {{\n",
       "            console.log([gd, 'removed!']);\n",
       "            Plotly.purge(gd);\n",
       "            observer.disconnect();\n",
       "        }}\n",
       "}});\n",
       "\n",
       "// Listen for the removal of the full notebook cells\n",
       "var notebookContainer = gd.closest('#notebook-container');\n",
       "if (notebookContainer) {{\n",
       "    x.observe(notebookContainer, {childList: true});\n",
       "}}\n",
       "\n",
       "// Listen for the clearing of the current output cell\n",
       "var outputEl = gd.closest('.output');\n",
       "if (outputEl) {{\n",
       "    x.observe(outputEl, {childList: true});\n",
       "}}\n",
       "\n",
       "                        })                };                });            </script>        </div>"
      ]
     },
     "metadata": {},
     "output_type": "display_data"
    }
   ],
   "source": [
    "bubble2()"
   ]
  },
  {
   "cell_type": "code",
   "execution_count": 50,
   "metadata": {},
   "outputs": [
    {
     "data": {
      "text/html": [
       "<div>\n",
       "<style scoped>\n",
       "    .dataframe tbody tr th:only-of-type {\n",
       "        vertical-align: middle;\n",
       "    }\n",
       "\n",
       "    .dataframe tbody tr th {\n",
       "        vertical-align: top;\n",
       "    }\n",
       "\n",
       "    .dataframe thead th {\n",
       "        text-align: right;\n",
       "    }\n",
       "</style>\n",
       "<table border=\"1\" class=\"dataframe\">\n",
       "  <thead>\n",
       "    <tr style=\"text-align: right;\">\n",
       "      <th></th>\n",
       "      <th>Happiness Score</th>\n",
       "      <th>CPI score 2019</th>\n",
       "      <th>Generosity Score</th>\n",
       "      <th>Human Freedom Score</th>\n",
       "      <th>Life Expectancy</th>\n",
       "      <th>Education</th>\n",
       "      <th>GDP</th>\n",
       "    </tr>\n",
       "    <tr>\n",
       "      <th>Region</th>\n",
       "      <th></th>\n",
       "      <th></th>\n",
       "      <th></th>\n",
       "      <th></th>\n",
       "      <th></th>\n",
       "      <th></th>\n",
       "      <th></th>\n",
       "    </tr>\n",
       "  </thead>\n",
       "  <tbody>\n",
       "    <tr>\n",
       "      <th>AME</th>\n",
       "      <td>6.256077</td>\n",
       "      <td>40.538462</td>\n",
       "      <td>34.692308</td>\n",
       "      <td>7.419231</td>\n",
       "      <td>77.015385</td>\n",
       "      <td>80.554375</td>\n",
       "      <td>12867.813394</td>\n",
       "    </tr>\n",
       "    <tr>\n",
       "      <th>AP</th>\n",
       "      <td>5.090769</td>\n",
       "      <td>38.692308</td>\n",
       "      <td>37.692308</td>\n",
       "      <td>6.658462</td>\n",
       "      <td>72.546154</td>\n",
       "      <td>80.321382</td>\n",
       "      <td>8433.064484</td>\n",
       "    </tr>\n",
       "    <tr>\n",
       "      <th>ECA</th>\n",
       "      <td>5.106200</td>\n",
       "      <td>38.100000</td>\n",
       "      <td>23.900000</td>\n",
       "      <td>7.034000</td>\n",
       "      <td>74.180000</td>\n",
       "      <td>97.457719</td>\n",
       "      <td>5679.354542</td>\n",
       "    </tr>\n",
       "    <tr>\n",
       "      <th>MENA</th>\n",
       "      <td>5.819000</td>\n",
       "      <td>52.666667</td>\n",
       "      <td>32.166667</td>\n",
       "      <td>6.356667</td>\n",
       "      <td>76.816667</td>\n",
       "      <td>81.963644</td>\n",
       "      <td>20127.040384</td>\n",
       "    </tr>\n",
       "    <tr>\n",
       "      <th>SSA</th>\n",
       "      <td>4.298773</td>\n",
       "      <td>34.318182</td>\n",
       "      <td>31.363636</td>\n",
       "      <td>6.319545</td>\n",
       "      <td>64.345455</td>\n",
       "      <td>45.198637</td>\n",
       "      <td>1593.192747</td>\n",
       "    </tr>\n",
       "    <tr>\n",
       "      <th>WE/EU</th>\n",
       "      <td>6.414417</td>\n",
       "      <td>64.208333</td>\n",
       "      <td>32.791667</td>\n",
       "      <td>8.223750</td>\n",
       "      <td>80.329167</td>\n",
       "      <td>95.486326</td>\n",
       "      <td>37230.427056</td>\n",
       "    </tr>\n",
       "  </tbody>\n",
       "</table>\n",
       "</div>"
      ],
      "text/plain": [
       "        Happiness Score  CPI score 2019  Generosity Score  \\\n",
       "Region                                                      \n",
       "AME            6.256077       40.538462         34.692308   \n",
       "AP             5.090769       38.692308         37.692308   \n",
       "ECA            5.106200       38.100000         23.900000   \n",
       "MENA           5.819000       52.666667         32.166667   \n",
       "SSA            4.298773       34.318182         31.363636   \n",
       "WE/EU          6.414417       64.208333         32.791667   \n",
       "\n",
       "        Human Freedom Score  Life Expectancy  Education           GDP  \n",
       "Region                                                                 \n",
       "AME                7.419231        77.015385  80.554375  12867.813394  \n",
       "AP                 6.658462        72.546154  80.321382   8433.064484  \n",
       "ECA                7.034000        74.180000  97.457719   5679.354542  \n",
       "MENA               6.356667        76.816667  81.963644  20127.040384  \n",
       "SSA                6.319545        64.345455  45.198637   1593.192747  \n",
       "WE/EU              8.223750        80.329167  95.486326  37230.427056  "
      ]
     },
     "execution_count": 50,
     "metadata": {},
     "output_type": "execute_result"
    }
   ],
   "source": [
    "region_group_df = final_data_df.groupby('Region').mean()\n",
    "region_group_df"
   ]
  },
  {
   "cell_type": "code",
   "execution_count": 51,
   "metadata": {},
   "outputs": [
    {
     "data": {
      "text/plain": [
       "<AxesSubplot:title={'center':'Region GDP plot'}, ylabel='GDP'>"
      ]
     },
     "execution_count": 51,
     "metadata": {},
     "output_type": "execute_result"
    },
    {
     "data": {
      "image/png": "[encoded data removed]",
      "text/plain": [
       "<Figure size 1440x504 with 1 Axes>"
      ]
     },
     "metadata": {},
     "output_type": "display_data"
    }
   ],
   "source": [
    "region_group_df.groupby('Region')['GDP'].agg(lambda x: sum(x)).plot(kind='pie',title='Region GDP plot',\n",
    "                                                                             figsize=(20,7))"
   ]
  },
  {
   "cell_type": "code",
   "execution_count": 52,
   "metadata": {},
   "outputs": [
    {
     "name": "stdout",
     "output_type": "stream",
     "text": [
      "Happiness Score vs. Life Expectancy vs. GDP\n",
      "x = Happiness Score\n",
      "y = Life Expectancy\n",
      "z = GDP\n",
      "\n",
      "\n"
     ]
    },
    {
     "data": {
      "application/vnd.plotly.v1+json": {
       "config": {
        "plotlyServerURL": "https://plot.ly"
       },
       "data": [
        {
         "marker": {
          "color": "rgb(217, 100, 100)",
          "line": {
           "color": "rgb(255, 255, 255)",
           "width": 0.1
          },
          "size": 12
         },
         "mode": "markers",
         "name": "Region Data",
         "type": "scatter3d",
         "x": [
          6.2560769230769235,
          5.090769230769231,
          5.106199999999999,
          5.819,
          4.298772727272727,
          6.414416666666667
         ],
         "y": [
          77.0153846153846,
          72.54615384615384,
          74.17999999999999,
          76.81666666666666,
          64.34545454545453,
          80.32916666666668
         ],
         "z": [
          12867.813394400631,
          8433.064483533799,
          5679.354542470217,
          20127.040384235785,
          1593.1927474577244,
          37230.42705615345
         ]
        }
       ],
       "layout": {
        "margin": {
         "b": 0,
         "l": 0,
         "r": 0,
         "t": 0
        },
        "template": {
         "data": {
          "bar": [
           {
            "error_x": {
             "color": "#2a3f5f"
            },
            "error_y": {
             "color": "#2a3f5f"
            },
            "marker": {
             "line": {
              "color": "#E5ECF6",
              "width": 0.5
             }
            },
            "type": "bar"
           }
          ],
          "barpolar": [
           {
            "marker": {
             "line": {
              "color": "#E5ECF6",
              "width": 0.5
             }
            },
            "type": "barpolar"
           }
          ],
          "carpet": [
           {
            "aaxis": {
             "endlinecolor": "#2a3f5f",
             "gridcolor": "white",
             "linecolor": "white",
             "minorgridcolor": "white",
             "startlinecolor": "#2a3f5f"
            },
            "baxis": {
             "endlinecolor": "#2a3f5f",
             "gridcolor": "white",
             "linecolor": "white",
             "minorgridcolor": "white",
             "startlinecolor": "#2a3f5f"
            },
            "type": "carpet"
           }
          ],
          "choropleth": [
           {
            "colorbar": {
             "outlinewidth": 0,
             "ticks": ""
            },
            "type": "choropleth"
           }
          ],
          "contour": [
           {
            "colorbar": {
             "outlinewidth": 0,
             "ticks": ""
            },
            "colorscale": [
             [
              0,
              "#0d0887"
             ],
             [
              0.1111111111111111,
              "#46039f"
             ],
             [
              0.2222222222222222,
              "#7201a8"
             ],
             [
              0.3333333333333333,
              "#9c179e"
             ],
             [
              0.4444444444444444,
              "#bd3786"
             ],
             [
              0.5555555555555556,
              "#d8576b"
             ],
             [
              0.6666666666666666,
              "#ed7953"
             ],
             [
              0.7777777777777778,
              "#fb9f3a"
             ],
             [
              0.8888888888888888,
              "#fdca26"
             ],
             [
              1,
              "#f0f921"
             ]
            ],
            "type": "contour"
           }
          ],
          "contourcarpet": [
           {
            "colorbar": {
             "outlinewidth": 0,
             "ticks": ""
            },
            "type": "contourcarpet"
           }
          ],
          "heatmap": [
           {
            "colorbar": {
             "outlinewidth": 0,
             "ticks": ""
            },
            "colorscale": [
             [
              0,
              "#0d0887"
             ],
             [
              0.1111111111111111,
              "#46039f"
             ],
             [
              0.2222222222222222,
              "#7201a8"
             ],
             [
              0.3333333333333333,
              "#9c179e"
             ],
             [
              0.4444444444444444,
              "#bd3786"
             ],
             [
              0.5555555555555556,
              "#d8576b"
             ],
             [
              0.6666666666666666,
              "#ed7953"
             ],
             [
              0.7777777777777778,
              "#fb9f3a"
             ],
             [
              0.8888888888888888,
              "#fdca26"
             ],
             [
              1,
              "#f0f921"
             ]
            ],
            "type": "heatmap"
           }
          ],
          "heatmapgl": [
           {
            "colorbar": {
             "outlinewidth": 0,
             "ticks": ""
            },
            "colorscale": [
             [
              0,
              "#0d0887"
             ],
             [
              0.1111111111111111,
              "#46039f"
             ],
             [
              0.2222222222222222,
              "#7201a8"
             ],
             [
              0.3333333333333333,
              "#9c179e"
             ],
             [
              0.4444444444444444,
              "#bd3786"
             ],
             [
              0.5555555555555556,
              "#d8576b"
             ],
             [
              0.6666666666666666,
              "#ed7953"
             ],
             [
              0.7777777777777778,
              "#fb9f3a"
             ],
             [
              0.8888888888888888,
              "#fdca26"
             ],
             [
              1,
              "#f0f921"
             ]
            ],
            "type": "heatmapgl"
           }
          ],
          "histogram": [
           {
            "marker": {
             "colorbar": {
              "outlinewidth": 0,
              "ticks": ""
             }
            },
            "type": "histogram"
           }
          ],
          "histogram2d": [
           {
            "colorbar": {
             "outlinewidth": 0,
             "ticks": ""
            },
            "colorscale": [
             [
              0,
              "#0d0887"
             ],
             [
              0.1111111111111111,
              "#46039f"
             ],
             [
              0.2222222222222222,
              "#7201a8"
             ],
             [
              0.3333333333333333,
              "#9c179e"
             ],
             [
              0.4444444444444444,
              "#bd3786"
             ],
             [
              0.5555555555555556,
              "#d8576b"
             ],
             [
              0.6666666666666666,
              "#ed7953"
             ],
             [
              0.7777777777777778,
              "#fb9f3a"
             ],
             [
              0.8888888888888888,
              "#fdca26"
             ],
             [
              1,
              "#f0f921"
             ]
            ],
            "type": "histogram2d"
           }
          ],
          "histogram2dcontour": [
           {
            "colorbar": {
             "outlinewidth": 0,
             "ticks": ""
            },
            "colorscale": [
             [
              0,
              "#0d0887"
             ],
             [
              0.1111111111111111,
              "#46039f"
             ],
             [
              0.2222222222222222,
              "#7201a8"
             ],
             [
              0.3333333333333333,
              "#9c179e"
             ],
             [
              0.4444444444444444,
              "#bd3786"
             ],
             [
              0.5555555555555556,
              "#d8576b"
             ],
             [
              0.6666666666666666,
              "#ed7953"
             ],
             [
              0.7777777777777778,
              "#fb9f3a"
             ],
             [
              0.8888888888888888,
              "#fdca26"
             ],
             [
              1,
              "#f0f921"
             ]
            ],
            "type": "histogram2dcontour"
           }
          ],
          "mesh3d": [
           {
            "colorbar": {
             "outlinewidth": 0,
             "ticks": ""
            },
            "type": "mesh3d"
           }
          ],
          "parcoords": [
           {
            "line": {
             "colorbar": {
              "outlinewidth": 0,
              "ticks": ""
             }
            },
            "type": "parcoords"
           }
          ],
          "pie": [
           {
            "automargin": true,
            "type": "pie"
           }
          ],
          "scatter": [
           {
            "marker": {
             "colorbar": {
              "outlinewidth": 0,
              "ticks": ""
             }
            },
            "type": "scatter"
           }
          ],
          "scatter3d": [
           {
            "line": {
             "colorbar": {
              "outlinewidth": 0,
              "ticks": ""
             }
            },
            "marker": {
             "colorbar": {
              "outlinewidth": 0,
              "ticks": ""
             }
            },
            "type": "scatter3d"
           }
          ],
          "scattercarpet": [
           {
            "marker": {
             "colorbar": {
              "outlinewidth": 0,
              "ticks": ""
             }
            },
            "type": "scattercarpet"
           }
          ],
          "scattergeo": [
           {
            "marker": {
             "colorbar": {
              "outlinewidth": 0,
              "ticks": ""
             }
            },
            "type": "scattergeo"
           }
          ],
          "scattergl": [
           {
            "marker": {
             "colorbar": {
              "outlinewidth": 0,
              "ticks": ""
             }
            },
            "type": "scattergl"
           }
          ],
          "scattermapbox": [
           {
            "marker": {
             "colorbar": {
              "outlinewidth": 0,
              "ticks": ""
             }
            },
            "type": "scattermapbox"
           }
          ],
          "scatterpolar": [
           {
            "marker": {
             "colorbar": {
              "outlinewidth": 0,
              "ticks": ""
             }
            },
            "type": "scatterpolar"
           }
          ],
          "scatterpolargl": [
           {
            "marker": {
             "colorbar": {
              "outlinewidth": 0,
              "ticks": ""
             }
            },
            "type": "scatterpolargl"
           }
          ],
          "scatterternary": [
           {
            "marker": {
             "colorbar": {
              "outlinewidth": 0,
              "ticks": ""
             }
            },
            "type": "scatterternary"
           }
          ],
          "surface": [
           {
            "colorbar": {
             "outlinewidth": 0,
             "ticks": ""
            },
            "colorscale": [
             [
              0,
              "#0d0887"
             ],
             [
              0.1111111111111111,
              "#46039f"
             ],
             [
              0.2222222222222222,
              "#7201a8"
             ],
             [
              0.3333333333333333,
              "#9c179e"
             ],
             [
              0.4444444444444444,
              "#bd3786"
             ],
             [
              0.5555555555555556,
              "#d8576b"
             ],
             [
              0.6666666666666666,
              "#ed7953"
             ],
             [
              0.7777777777777778,
              "#fb9f3a"
             ],
             [
              0.8888888888888888,
              "#fdca26"
             ],
             [
              1,
              "#f0f921"
             ]
            ],
            "type": "surface"
           }
          ],
          "table": [
           {
            "cells": {
             "fill": {
              "color": "#EBF0F8"
             },
             "line": {
              "color": "white"
             }
            },
            "header": {
             "fill": {
              "color": "#C8D4E3"
             },
             "line": {
              "color": "white"
             }
            },
            "type": "table"
           }
          ]
         },
         "layout": {
          "annotationdefaults": {
           "arrowcolor": "#2a3f5f",
           "arrowhead": 0,
           "arrowwidth": 1
          },
          "autotypenumbers": "strict",
          "coloraxis": {
           "colorbar": {
            "outlinewidth": 0,
            "ticks": ""
           }
          },
          "colorscale": {
           "diverging": [
            [
             0,
             "#8e0152"
            ],
            [
             0.1,
             "#c51b7d"
            ],
            [
             0.2,
             "#de77ae"
            ],
            [
             0.3,
             "#f1b6da"
            ],
            [
             0.4,
             "#fde0ef"
            ],
            [
             0.5,
             "#f7f7f7"
            ],
            [
             0.6,
             "#e6f5d0"
            ],
            [
             0.7,
             "#b8e186"
            ],
            [
             0.8,
             "#7fbc41"
            ],
            [
             0.9,
             "#4d9221"
            ],
            [
             1,
             "#276419"
            ]
           ],
           "sequential": [
            [
             0,
             "#0d0887"
            ],
            [
             0.1111111111111111,
             "#46039f"
            ],
            [
             0.2222222222222222,
             "#7201a8"
            ],
            [
             0.3333333333333333,
             "#9c179e"
            ],
            [
             0.4444444444444444,
             "#bd3786"
            ],
            [
             0.5555555555555556,
             "#d8576b"
            ],
            [
             0.6666666666666666,
             "#ed7953"
            ],
            [
             0.7777777777777778,
             "#fb9f3a"
            ],
            [
             0.8888888888888888,
             "#fdca26"
            ],
            [
             1,
             "#f0f921"
            ]
           ],
           "sequentialminus": [
            [
             0,
             "#0d0887"
            ],
            [
             0.1111111111111111,
             "#46039f"
            ],
            [
             0.2222222222222222,
             "#7201a8"
            ],
            [
             0.3333333333333333,
             "#9c179e"
            ],
            [
             0.4444444444444444,
             "#bd3786"
            ],
            [
             0.5555555555555556,
             "#d8576b"
            ],
            [
             0.6666666666666666,
             "#ed7953"
            ],
            [
             0.7777777777777778,
             "#fb9f3a"
            ],
            [
             0.8888888888888888,
             "#fdca26"
            ],
            [
             1,
             "#f0f921"
            ]
           ]
          },
          "colorway": [
           "#636efa",
           "#EF553B",
           "#00cc96",
           "#ab63fa",
           "#FFA15A",
           "#19d3f3",
           "#FF6692",
           "#B6E880",
           "#FF97FF",
           "#FECB52"
          ],
          "font": {
           "color": "#2a3f5f"
          },
          "geo": {
           "bgcolor": "white",
           "lakecolor": "white",
           "landcolor": "#E5ECF6",
           "showlakes": true,
           "showland": true,
           "subunitcolor": "white"
          },
          "hoverlabel": {
           "align": "left"
          },
          "hovermode": "closest",
          "mapbox": {
           "style": "light"
          },
          "paper_bgcolor": "white",
          "plot_bgcolor": "#E5ECF6",
          "polar": {
           "angularaxis": {
            "gridcolor": "white",
            "linecolor": "white",
            "ticks": ""
           },
           "bgcolor": "#E5ECF6",
           "radialaxis": {
            "gridcolor": "white",
            "linecolor": "white",
            "ticks": ""
           }
          },
          "scene": {
           "xaxis": {
            "backgroundcolor": "#E5ECF6",
            "gridcolor": "white",
            "gridwidth": 2,
            "linecolor": "white",
            "showbackground": true,
            "ticks": "",
            "zerolinecolor": "white"
           },
           "yaxis": {
            "backgroundcolor": "#E5ECF6",
            "gridcolor": "white",
            "gridwidth": 2,
            "linecolor": "white",
            "showbackground": true,
            "ticks": "",
            "zerolinecolor": "white"
           },
           "zaxis": {
            "backgroundcolor": "#E5ECF6",
            "gridcolor": "white",
            "gridwidth": 2,
            "linecolor": "white",
            "showbackground": true,
            "ticks": "",
            "zerolinecolor": "white"
           }
          },
          "shapedefaults": {
           "line": {
            "color": "#2a3f5f"
           }
          },
          "ternary": {
           "aaxis": {
            "gridcolor": "white",
            "linecolor": "white",
            "ticks": ""
           },
           "baxis": {
            "gridcolor": "white",
            "linecolor": "white",
            "ticks": ""
           },
           "bgcolor": "#E5ECF6",
           "caxis": {
            "gridcolor": "white",
            "linecolor": "white",
            "ticks": ""
           }
          },
          "title": {
           "x": 0.05
          },
          "xaxis": {
           "automargin": true,
           "gridcolor": "white",
           "linecolor": "white",
           "ticks": "",
           "title": {
            "standoff": 15
           },
           "zerolinecolor": "white",
           "zerolinewidth": 2
          },
          "yaxis": {
           "automargin": true,
           "gridcolor": "white",
           "linecolor": "white",
           "ticks": "",
           "title": {
            "standoff": 15
           },
           "zerolinecolor": "white",
           "zerolinewidth": 2
          }
         }
        },
        "title": {
         "text": "Region Data"
        }
       }
      },
      "text/html": [
       "<div>                            <div id=\"de32daf3-4651-4197-8f7c-23617aa36e86\" class=\"plotly-graph-div\" style=\"height:525px; width:100%;\"></div>            <script type=\"text/javascript\">                require([\"plotly\"], function(Plotly) {                    window.PLOTLYENV=window.PLOTLYENV || {};                                    if (document.getElementById(\"de32daf3-4651-4197-8f7c-23617aa36e86\")) {                    Plotly.newPlot(                        \"de32daf3-4651-4197-8f7c-23617aa36e86\",                        [{\"marker\": {\"color\": \"rgb(217, 100, 100)\", \"line\": {\"color\": \"rgb(255, 255, 255)\", \"width\": 0.1}, \"size\": 12}, \"mode\": \"markers\", \"name\": \"Region Data\", \"type\": \"scatter3d\", \"x\": [6.2560769230769235, 5.090769230769231, 5.106199999999999, 5.819, 4.298772727272727, 6.414416666666667], \"y\": [77.0153846153846, 72.54615384615384, 74.17999999999999, 76.81666666666666, 64.34545454545453, 80.32916666666668], \"z\": [12867.813394400631, 8433.064483533799, 5679.354542470217, 20127.040384235785, 1593.1927474577244, 37230.42705615345]}],                        {\"margin\": {\"b\": 0, \"l\": 0, \"r\": 0, \"t\": 0}, \"template\": {\"data\": {\"bar\": [{\"error_x\": {\"color\": \"#2a3f5f\"}, \"error_y\": {\"color\": \"#2a3f5f\"}, \"marker\": {\"line\": {\"color\": \"#E5ECF6\", \"width\": 0.5}}, \"type\": \"bar\"}], \"barpolar\": [{\"marker\": {\"line\": {\"color\": \"#E5ECF6\", \"width\": 0.5}}, \"type\": \"barpolar\"}], \"carpet\": [{\"aaxis\": {\"endlinecolor\": \"#2a3f5f\", \"gridcolor\": \"white\", \"linecolor\": \"white\", \"minorgridcolor\": \"white\", \"startlinecolor\": \"#2a3f5f\"}, \"baxis\": {\"endlinecolor\": \"#2a3f5f\", \"gridcolor\": \"white\", \"linecolor\": \"white\", \"minorgridcolor\": \"white\", \"startlinecolor\": \"#2a3f5f\"}, \"type\": \"carpet\"}], \"choropleth\": [{\"colorbar\": {\"outlinewidth\": 0, \"ticks\": \"\"}, \"type\": \"choropleth\"}], \"contour\": [{\"colorbar\": {\"outlinewidth\": 0, \"ticks\": \"\"}, \"colorscale\": [[0.0, \"#0d0887\"], [0.1111111111111111, \"#46039f\"], [0.2222222222222222, \"#7201a8\"], [0.3333333333333333, \"#9c179e\"], [0.4444444444444444, \"#bd3786\"], [0.5555555555555556, \"#d8576b\"], [0.6666666666666666, \"#ed7953\"], [0.7777777777777778, \"#fb9f3a\"], [0.8888888888888888, \"#fdca26\"], [1.0, \"#f0f921\"]], \"type\": \"contour\"}], \"contourcarpet\": [{\"colorbar\": {\"outlinewidth\": 0, \"ticks\": \"\"}, \"type\": \"contourcarpet\"}], \"heatmap\": [{\"colorbar\": {\"outlinewidth\": 0, \"ticks\": \"\"}, \"colorscale\": [[0.0, \"#0d0887\"], [0.1111111111111111, \"#46039f\"], [0.2222222222222222, \"#7201a8\"], [0.3333333333333333, \"#9c179e\"], [0.4444444444444444, \"#bd3786\"], [0.5555555555555556, \"#d8576b\"], [0.6666666666666666, \"#ed7953\"], [0.7777777777777778, \"#fb9f3a\"], [0.8888888888888888, \"#fdca26\"], [1.0, \"#f0f921\"]], \"type\": \"heatmap\"}], \"heatmapgl\": [{\"colorbar\": {\"outlinewidth\": 0, \"ticks\": \"\"}, \"colorscale\": [[0.0, \"#0d0887\"], [0.1111111111111111, \"#46039f\"], [0.2222222222222222, \"#7201a8\"], [0.3333333333333333, \"#9c179e\"], [0.4444444444444444, \"#bd3786\"], [0.5555555555555556, \"#d8576b\"], [0.6666666666666666, \"#ed7953\"], [0.7777777777777778, \"#fb9f3a\"], [0.8888888888888888, \"#fdca26\"], [1.0, \"#f0f921\"]], \"type\": \"heatmapgl\"}], \"histogram\": [{\"marker\": {\"colorbar\": {\"outlinewidth\": 0, \"ticks\": \"\"}}, \"type\": \"histogram\"}], \"histogram2d\": [{\"colorbar\": {\"outlinewidth\": 0, \"ticks\": \"\"}, \"colorscale\": [[0.0, \"#0d0887\"], [0.1111111111111111, \"#46039f\"], [0.2222222222222222, \"#7201a8\"], [0.3333333333333333, \"#9c179e\"], [0.4444444444444444, \"#bd3786\"], [0.5555555555555556, \"#d8576b\"], [0.6666666666666666, \"#ed7953\"], [0.7777777777777778, \"#fb9f3a\"], [0.8888888888888888, \"#fdca26\"], [1.0, \"#f0f921\"]], \"type\": \"histogram2d\"}], \"histogram2dcontour\": [{\"colorbar\": {\"outlinewidth\": 0, \"ticks\": \"\"}, \"colorscale\": [[0.0, \"#0d0887\"], [0.1111111111111111, \"#46039f\"], [0.2222222222222222, \"#7201a8\"], [0.3333333333333333, \"#9c179e\"], [0.4444444444444444, \"#bd3786\"], [0.5555555555555556, \"#d8576b\"], [0.6666666666666666, \"#ed7953\"], [0.7777777777777778, \"#fb9f3a\"], [0.8888888888888888, \"#fdca26\"], [1.0, \"#f0f921\"]], \"type\": \"histogram2dcontour\"}], \"mesh3d\": [{\"colorbar\": {\"outlinewidth\": 0, \"ticks\": \"\"}, \"type\": \"mesh3d\"}], \"parcoords\": [{\"line\": {\"colorbar\": {\"outlinewidth\": 0, \"ticks\": \"\"}}, \"type\": \"parcoords\"}], \"pie\": [{\"automargin\": true, \"type\": \"pie\"}], \"scatter\": [{\"marker\": {\"colorbar\": {\"outlinewidth\": 0, \"ticks\": \"\"}}, \"type\": \"scatter\"}], \"scatter3d\": [{\"line\": {\"colorbar\": {\"outlinewidth\": 0, \"ticks\": \"\"}}, \"marker\": {\"colorbar\": {\"outlinewidth\": 0, \"ticks\": \"\"}}, \"type\": \"scatter3d\"}], \"scattercarpet\": [{\"marker\": {\"colorbar\": {\"outlinewidth\": 0, \"ticks\": \"\"}}, \"type\": \"scattercarpet\"}], \"scattergeo\": [{\"marker\": {\"colorbar\": {\"outlinewidth\": 0, \"ticks\": \"\"}}, \"type\": \"scattergeo\"}], \"scattergl\": [{\"marker\": {\"colorbar\": {\"outlinewidth\": 0, \"ticks\": \"\"}}, \"type\": \"scattergl\"}], \"scattermapbox\": [{\"marker\": {\"colorbar\": {\"outlinewidth\": 0, \"ticks\": \"\"}}, \"type\": \"scattermapbox\"}], \"scatterpolar\": [{\"marker\": {\"colorbar\": {\"outlinewidth\": 0, \"ticks\": \"\"}}, \"type\": \"scatterpolar\"}], \"scatterpolargl\": [{\"marker\": {\"colorbar\": {\"outlinewidth\": 0, \"ticks\": \"\"}}, \"type\": \"scatterpolargl\"}], \"scatterternary\": [{\"marker\": {\"colorbar\": {\"outlinewidth\": 0, \"ticks\": \"\"}}, \"type\": \"scatterternary\"}], \"surface\": [{\"colorbar\": {\"outlinewidth\": 0, \"ticks\": \"\"}, \"colorscale\": [[0.0, \"#0d0887\"], [0.1111111111111111, \"#46039f\"], [0.2222222222222222, \"#7201a8\"], [0.3333333333333333, \"#9c179e\"], [0.4444444444444444, \"#bd3786\"], [0.5555555555555556, \"#d8576b\"], [0.6666666666666666, \"#ed7953\"], [0.7777777777777778, \"#fb9f3a\"], [0.8888888888888888, \"#fdca26\"], [1.0, \"#f0f921\"]], \"type\": \"surface\"}], \"table\": [{\"cells\": {\"fill\": {\"color\": \"#EBF0F8\"}, \"line\": {\"color\": \"white\"}}, \"header\": {\"fill\": {\"color\": \"#C8D4E3\"}, \"line\": {\"color\": \"white\"}}, \"type\": \"table\"}]}, \"layout\": {\"annotationdefaults\": {\"arrowcolor\": \"#2a3f5f\", \"arrowhead\": 0, \"arrowwidth\": 1}, \"autotypenumbers\": \"strict\", \"coloraxis\": {\"colorbar\": {\"outlinewidth\": 0, \"ticks\": \"\"}}, \"colorscale\": {\"diverging\": [[0, \"#8e0152\"], [0.1, \"#c51b7d\"], [0.2, \"#de77ae\"], [0.3, \"#f1b6da\"], [0.4, \"#fde0ef\"], [0.5, \"#f7f7f7\"], [0.6, \"#e6f5d0\"], [0.7, \"#b8e186\"], [0.8, \"#7fbc41\"], [0.9, \"#4d9221\"], [1, \"#276419\"]], \"sequential\": [[0.0, \"#0d0887\"], [0.1111111111111111, \"#46039f\"], [0.2222222222222222, \"#7201a8\"], [0.3333333333333333, \"#9c179e\"], [0.4444444444444444, \"#bd3786\"], [0.5555555555555556, \"#d8576b\"], [0.6666666666666666, \"#ed7953\"], [0.7777777777777778, \"#fb9f3a\"], [0.8888888888888888, \"#fdca26\"], [1.0, \"#f0f921\"]], \"sequentialminus\": [[0.0, \"#0d0887\"], [0.1111111111111111, \"#46039f\"], [0.2222222222222222, \"#7201a8\"], [0.3333333333333333, \"#9c179e\"], [0.4444444444444444, \"#bd3786\"], [0.5555555555555556, \"#d8576b\"], [0.6666666666666666, \"#ed7953\"], [0.7777777777777778, \"#fb9f3a\"], [0.8888888888888888, \"#fdca26\"], [1.0, \"#f0f921\"]]}, \"colorway\": [\"#636efa\", \"#EF553B\", \"#00cc96\", \"#ab63fa\", \"#FFA15A\", \"#19d3f3\", \"#FF6692\", \"#B6E880\", \"#FF97FF\", \"#FECB52\"], \"font\": {\"color\": \"#2a3f5f\"}, \"geo\": {\"bgcolor\": \"white\", \"lakecolor\": \"white\", \"landcolor\": \"#E5ECF6\", \"showlakes\": true, \"showland\": true, \"subunitcolor\": \"white\"}, \"hoverlabel\": {\"align\": \"left\"}, \"hovermode\": \"closest\", \"mapbox\": {\"style\": \"light\"}, \"paper_bgcolor\": \"white\", \"plot_bgcolor\": \"#E5ECF6\", \"polar\": {\"angularaxis\": {\"gridcolor\": \"white\", \"linecolor\": \"white\", \"ticks\": \"\"}, \"bgcolor\": \"#E5ECF6\", \"radialaxis\": {\"gridcolor\": \"white\", \"linecolor\": \"white\", \"ticks\": \"\"}}, \"scene\": {\"xaxis\": {\"backgroundcolor\": \"#E5ECF6\", \"gridcolor\": \"white\", \"gridwidth\": 2, \"linecolor\": \"white\", \"showbackground\": true, \"ticks\": \"\", \"zerolinecolor\": \"white\"}, \"yaxis\": {\"backgroundcolor\": \"#E5ECF6\", \"gridcolor\": \"white\", \"gridwidth\": 2, \"linecolor\": \"white\", \"showbackground\": true, \"ticks\": \"\", \"zerolinecolor\": \"white\"}, \"zaxis\": {\"backgroundcolor\": \"#E5ECF6\", \"gridcolor\": \"white\", \"gridwidth\": 2, \"linecolor\": \"white\", \"showbackground\": true, \"ticks\": \"\", \"zerolinecolor\": \"white\"}}, \"shapedefaults\": {\"line\": {\"color\": \"#2a3f5f\"}}, \"ternary\": {\"aaxis\": {\"gridcolor\": \"white\", \"linecolor\": \"white\", \"ticks\": \"\"}, \"baxis\": {\"gridcolor\": \"white\", \"linecolor\": \"white\", \"ticks\": \"\"}, \"bgcolor\": \"#E5ECF6\", \"caxis\": {\"gridcolor\": \"white\", \"linecolor\": \"white\", \"ticks\": \"\"}}, \"title\": {\"x\": 0.05}, \"xaxis\": {\"automargin\": true, \"gridcolor\": \"white\", \"linecolor\": \"white\", \"ticks\": \"\", \"title\": {\"standoff\": 15}, \"zerolinecolor\": \"white\", \"zerolinewidth\": 2}, \"yaxis\": {\"automargin\": true, \"gridcolor\": \"white\", \"linecolor\": \"white\", \"ticks\": \"\", \"title\": {\"standoff\": 15}, \"zerolinecolor\": \"white\", \"zerolinewidth\": 2}}}, \"title\": {\"text\": \"Region Data\"}},                        {\"responsive\": true}                    ).then(function(){\n",
       "                            \n",
       "var gd = document.getElementById('de32daf3-4651-4197-8f7c-23617aa36e86');\n",
       "var x = new MutationObserver(function (mutations, observer) {{\n",
       "        var display = window.getComputedStyle(gd).display;\n",
       "        if (!display || display === 'none') {{\n",
       "            console.log([gd, 'removed!']);\n",
       "            Plotly.purge(gd);\n",
       "            observer.disconnect();\n",
       "        }}\n",
       "}});\n",
       "\n",
       "// Listen for the removal of the full notebook cells\n",
       "var notebookContainer = gd.closest('#notebook-container');\n",
       "if (notebookContainer) {{\n",
       "    x.observe(notebookContainer, {childList: true});\n",
       "}}\n",
       "\n",
       "// Listen for the clearing of the current output cell\n",
       "var outputEl = gd.closest('.output');\n",
       "if (outputEl) {{\n",
       "    x.observe(outputEl, {childList: true});\n",
       "}}\n",
       "\n",
       "                        })                };                });            </script>        </div>"
      ]
     },
     "metadata": {},
     "output_type": "display_data"
    }
   ],
   "source": [
    "#scatter plot to show Happinesss vs LIfe expectancy corrlate with GDP.\n",
    "# trace1\n",
    "\n",
    "print('Happiness Score vs. Life Expectancy vs. GDP\\nx = Happiness Score\\ny = Life Expectancy\\nz = GDP\\n\\n')\n",
    "trace1 = go.Scatter3d(\n",
    "    x=region_group_df['Happiness Score'],\n",
    "    y=region_group_df['Life Expectancy'],\n",
    "    z=region_group_df['GDP'],\n",
    "    mode='markers',\n",
    "    name = \"Region Data\",\n",
    "    marker=dict(\n",
    "        color='rgb(217, 100, 100)',\n",
    "        size=12,\n",
    "        line=dict(\n",
    "            color='rgb(255, 255, 255)',\n",
    "            width=0.1\n",
    "        )\n",
    "    )\n",
    ")\n",
    "data = [trace1]\n",
    "layout = go.Layout(\n",
    "    title = 'Region Data',\n",
    "    margin=dict(\n",
    "        l=0,\n",
    "        r=0,\n",
    "        b=0,\n",
    "        t=0\n",
    "    )\n",
    ")\n",
    "\n",
    "fig = go.Figure(data=data, layout=layout)\n",
    "fig.show()"
   ]
  }
 ],
 "metadata": {
  "kernelspec": {
   "display_name": "Python 3",
   "language": "python",
   "name": "python3"
  },
  "language_info": {
   "codemirror_mode": {
    "name": "ipython",
    "version": 3
   },
   "file_extension": ".py",
   "mimetype": "text/x-python",
   "name": "python",
   "nbconvert_exporter": "python",
   "pygments_lexer": "ipython3",
   "version": "3.8.5"
  }
 },
 "nbformat": 4,
 "nbformat_minor": 4
}
