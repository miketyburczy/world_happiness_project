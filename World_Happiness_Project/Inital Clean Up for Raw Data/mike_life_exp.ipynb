{
 "cells": [
  {
   "cell_type": "code",
   "execution_count": 1,
   "metadata": {},
   "outputs": [],
   "source": [
    "import pandas as pd"
   ]
  },
  {
   "cell_type": "code",
   "execution_count": 2,
   "metadata": {},
   "outputs": [],
   "source": [
    "#CSV file path\n",
    "file = \"../raw data/life_exp19.csv\"\n",
    "\n",
    "# Read our Kickstarter data into pandas\n",
    "df = pd.read_csv(file, skiprows=[0])\n",
    "df2 = df.loc[:, ['Country','Year','Both sexes']]\n",
    "df3 = df2.loc[df2['Year'] == 2019]\n",
    "df4 = df3.loc[:, ['Country','Both sexes']]\n",
    "lifeexp_df = df4.rename(columns={\"Both sexes\": \"Life Expectancy\"})\n"
   ]
  },
  {
   "cell_type": "code",
   "execution_count": 3,
   "metadata": {},
   "outputs": [],
   "source": [
    "#lifeexp_df.to_csv('../clean data/lifeexp.csv', index=False)"
   ]
  }
 ],
 "metadata": {
  "kernelspec": {
   "display_name": "Python 3",
   "language": "python",
   "name": "python3"
  },
  "language_info": {
   "codemirror_mode": {
    "name": "ipython",
    "version": 3
   },
   "file_extension": ".py",
   "mimetype": "text/x-python",
   "name": "python",
   "nbconvert_exporter": "python",
   "pygments_lexer": "ipython3",
   "version": "3.8.5"
  }
 },
 "nbformat": 4,
 "nbformat_minor": 4
}
