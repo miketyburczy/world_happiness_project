{
 "cells": [
  {
   "cell_type": "code",
   "execution_count": 1,
   "metadata": {},
   "outputs": [],
   "source": [
    "import matplotlib.pyplot as plt\n",
    "import pandas as pd\n",
    "import seaborn as sns\n",
    "\n",
    "#import dataframe\n",
    "gov_corruption_df = pd.read_csv('clean data/cpi_2019.csv')\n",
    "generosity_df = pd.read_csv('clean data/global_generosity_score.csv')\n",
    "human_freedom_df = pd.read_csv('clean data/hf_score.csv')\n",
    "life_expectancy_df = pd.read_csv('clean data/lifeexp.csv')\n",
    "education_df = pd.read_csv('clean data/clean_edu.csv')\n",
    "gdp_df = pd.read_csv('clean data/Updated_GDP.csv')\n",
    "happy_df = pd.read_csv('clean data/happy_score.csv')\n",
    "\n",
    "happy_df = happy_df.rename(columns={'Country or region':'Country','Score':'Happiness Score'})\n",
    "\n",
    "generosity_df = generosity_df.drop('Unnamed: 0',axis=1)\n",
    "clean_gen_df = generosity_df.rename(columns={'country':'Country','overallScore':'Generosity Score'})\n",
    "clean_gen_df = clean_gen_df.sort_values('Country')\n",
    "clean_gen_df = clean_gen_df.reset_index(drop=True)\n",
    "\n",
    "clean_corrupt_df = gov_corruption_df.sort_values('Country')\n",
    "clean_corrupt_df = clean_corrupt_df.reset_index(drop=True)\n",
    "\n",
    "gdp_df = gdp_df.rename(columns={'Country Name':'Country','Country Code':'Region','2019':\"GDP (in 1000s)\"})\n",
    "gdp_df = gdp_df[['Country',\"GDP (in 1000s)\"]]\n",
    "\n",
    "human_freedom_df = human_freedom_df.rename(columns={'countries':'Country','region':'Region','hf_score':'Human Freedom Score'})\n",
    "\n",
    "education_df = education_df.rename(columns={'Data Source':'Country','Rate':'Education'})\n",
    "\n",
    "merge_1 = pd.merge(clean_corrupt_df,clean_gen_df,how='outer',on='Country')\n",
    "merge_2 = pd.merge(merge_1,human_freedom_df,how='outer',on='Country')\n",
    "merge_3 = pd.merge(merge_2,life_expectancy_df,how='outer',on='Country')\n",
    "merge_4 = pd.merge(merge_3,education_df,how='outer',on='Country')\n",
    "merge_5 = pd.merge(merge_4,gdp_df,how='outer',on='Country')\n",
    "final_data_df = pd.merge(merge_5,happy_df,how='outer',on='Country')\n",
    "\n",
    "final_data_df = final_data_df[['Country','Region','Happiness Score','CPI score 2019','Generosity Score',\n",
    "                           'Human Freedom Score','Life Expectancy','Education','GDP (in 1000s)']]\n",
    "final_data_df = final_data_df.dropna(axis=0,how='any')\n",
    "final_data_df = final_data_df.reset_index(drop=True)\n",
    "\n",
    "final_data_df['GDP (in 1000s)'] = final_data_df['GDP (in 1000s)']/1000\n",
    "\n",
    "gdp_top_5 = final_data_df.sort_values('GDP (in 1000s)',ascending=False)\n",
    "gdp_top_5 = gdp_top_5.reset_index(drop=True)\n",
    "new_df = gdp_top_5.head()\n",
    "\n",
    "gdp_bot_5 = final_data_df.sort_values('GDP (in 1000s)',ascending=True)\n",
    "gdp_bot_5 = gdp_bot_5.reset_index(drop=True)\n",
    "next_df = gdp_bot_5.head()"
   ]
  },
  {
   "cell_type": "code",
   "execution_count": 2,
   "metadata": {},
   "outputs": [],
   "source": [
    "def bar_plt(x,y):\n",
    "    \n",
    "    fig, axes = plt.subplots(nrows=2, ncols=2,constrained_layout=True,figsize=(12,8))\n",
    "    \n",
    "    sns.barplot(x='GDP (in 1000s)',y='Country',data=gdp_top_5.nlargest(5,'GDP (in 1000s)'),ax=axes[0,0],palette=\"Blues_d\")\n",
    "    \n",
    "    sns.barplot(x='Happiness Score' ,y='Country',data=gdp_top_5.nlargest(5,'GDP (in 1000s)'),ax=axes[0,1],palette=\"YlGn\")\n",
    "    \n",
    "    sns.barplot(x='Life Expectancy' ,y='Country',data=gdp_top_5.nlargest(5,'GDP (in 1000s)'),ax=axes[1,0],palette='OrRd')\n",
    "    \n",
    "    sns.barplot(x='Human Freedom Score' ,y='Country',data=gdp_top_5.nlargest(5,'GDP (in 1000s)'),ax=axes[1,1],palette='mako')\n",
    "    \n",
    "    plt.show()\n",
    "    \n",
    "    return"
   ]
  },
  {
   "cell_type": "code",
   "execution_count": null,
   "metadata": {},
   "outputs": [],
   "source": []
  },
  {
   "cell_type": "code",
   "execution_count": null,
   "metadata": {},
   "outputs": [],
   "source": []
  }
 ],
 "metadata": {
  "kernelspec": {
   "display_name": "Python 3",
   "language": "python",
   "name": "python3"
  },
  "language_info": {
   "codemirror_mode": {
    "name": "ipython",
    "version": 3
   },
   "file_extension": ".py",
   "mimetype": "text/x-python",
   "name": "python",
   "nbconvert_exporter": "python",
   "pygments_lexer": "ipython3",
   "version": "3.8.5"
  }
 },
 "nbformat": 4,
 "nbformat_minor": 4
}
