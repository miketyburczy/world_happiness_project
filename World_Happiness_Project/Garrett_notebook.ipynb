{
 "cells": [
  {
   "cell_type": "code",
   "execution_count": 1,
   "metadata": {},
   "outputs": [],
   "source": [
    "import matplotlib.pyplot as plt\n",
    "import numpy as np"
   ]
  },
  {
   "cell_type": "code",
   "execution_count": 2,
   "metadata": {},
   "outputs": [],
   "source": [
    "def scatter_graph(x,y):\n",
    "    ## Function to graph scatter plots for regression model    \n",
    "    import scipy.stats as st1 \n",
    "    \n",
    "    ## use numpy to generate random number to choose color for graph\n",
    "    \n",
    "    num = np.random.randint(1,7)\n",
    "    \n",
    "    ## Define dictionary for colors\n",
    "    my_colors={'1':'orange','2':'green','3':'blue','4':'yellow','5':'purple','6':'magenta'}\n",
    "    \n",
    "    ## loop through dictionary to set color for scatter plot\n",
    "    for k,v in my_colors.items():\n",
    "        if num == int(k):\n",
    "            color = v\n",
    "    \n",
    "    ## Define figure to hold graph and graph scatter plot\n",
    "    plt.figure(figsize=(15,7))\n",
    "    plt.scatter(x,y,s=80,edgecolor='black',color=color)\n",
    "    plt.title(f'{x.name} vs. {y.name}',fontsize=24,color='black')\n",
    "    plt.xlabel(f'{x.name}',fontsize=20,color='black')\n",
    "    plt.ylabel(f'{y.name}',fontsize=20,color='black')\n",
    "    plt.xticks(fontsize=14,color='black')\n",
    "    plt.yticks(fontsize=14,color='black')\n",
    "    plt.ylim(0,10)\n",
    "    \n",
    "    ## Regresion model and line graph\n",
    "    (s,i,r,p,std) = st1.linregress(x,y)\n",
    "    lin_eq1 = (s*x)+i\n",
    "    equ = f'y={round(s,2)}x+{round(i,2)}'\n",
    "    plt.plot(x,lin_eq1,color='red')\n",
    "    plt.annotate(equ,(x.min(),9.25),color='red',fontsize=20)\n",
    "    \n",
    "    ## Show\n",
    "    plt.show()    \n",
    "    \n",
    "    ##Print the r and p values\n",
    "    print(f'\\n\\nThe r-value for {x.name} is {round(r,3)}.')"
   ]
  },
  {
   "cell_type": "code",
   "execution_count": null,
   "metadata": {},
   "outputs": [],
   "source": []
  }
 ],
 "metadata": {
  "kernelspec": {
   "display_name": "Python 3",
   "language": "python",
   "name": "python3"
  },
  "language_info": {
   "codemirror_mode": {
    "name": "ipython",
    "version": 3
   },
   "file_extension": ".py",
   "mimetype": "text/x-python",
   "name": "python",
   "nbconvert_exporter": "python",
   "pygments_lexer": "ipython3",
   "version": "3.8.5"
  }
 },
 "nbformat": 4,
 "nbformat_minor": 4
}
